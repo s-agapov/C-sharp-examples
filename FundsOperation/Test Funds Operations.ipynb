{
 "cells": [
  {
   "cell_type": "code",
   "execution_count": 9,
   "metadata": {
    "dotnet_interactive": {
     "language": "csharp"
    },
    "polyglot_notebook": {
     "kernelName": "csharp"
    }
   },
   "outputs": [],
   "source": [
    "using System.IO;"
   ]
  },
  {
   "cell_type": "code",
   "execution_count": 27,
   "metadata": {
    "dotnet_interactive": {
     "language": "csharp"
    },
    "polyglot_notebook": {
     "kernelName": "csharp"
    }
   },
   "outputs": [],
   "source": [
    "public struct Customer\n",
    "    {\n",
    "        public string ID {get; set;}\n",
    "        public string Name { get; set; }\n",
    "\n",
    "        public bool validatePIN(string pin)\n",
    "        {\n",
    "            \n",
    "            if (pin == ID.Substring(3,3)) { return true; }\n",
    "\n",
    "            else { return false; }\n",
    "        }\n",
    "\n",
    "\n",
    "        public override string ToString()\n",
    "        {\n",
    "            return \"Name: \" + Name + \"   ID: \" + ID;\n",
    "        }\n",
    "    }"
   ]
  },
  {
   "cell_type": "code",
   "execution_count": 28,
   "metadata": {
    "dotnet_interactive": {
     "language": "csharp"
    },
    "polyglot_notebook": {
     "kernelName": "csharp"
    }
   },
   "outputs": [
    {
     "name": "stdout",
     "output_type": "stream",
     "text": [
      "Name:    ID: 123456\r\n"
     ]
    }
   ],
   "source": [
    "Customer customer = new();\n",
    "customer.ID = \"123456\";\n",
    "customer.validatePIN(\"4526\");\n",
    "\n",
    "Console.WriteLine(customer)"
   ]
  },
  {
   "cell_type": "code",
   "execution_count": 33,
   "metadata": {
    "dotnet_interactive": {
     "language": "csharp"
    },
    "polyglot_notebook": {
     "kernelName": "csharp"
    }
   },
   "outputs": [
    {
     "name": "stdout",
     "output_type": "stream",
     "text": [
      "Открываем файл\n",
      "123456, Denis\n",
      "143567, Mike,234\n",
      "342563, Susan\n",
      "\n",
      "Find: Part where name contains \"seat\": Name:  Denis   ID: 123456\n"
     ]
    },
    {
     "data": {
      "text/html": [
       "<details open=\"open\" class=\"dni-treeview\"><summary><span class=\"dni-code-hint\"><code>Name:  Denis   ID: 123456</code></span></summary><div><table><thead><tr></tr></thead><tbody><tr><td>ID</td><td><div class=\"dni-plaintext\"><pre>123456</pre></div></td></tr><tr><td>Name</td><td><div class=\"dni-plaintext\"><pre> Denis</pre></div></td></tr></tbody></table></div></details><style>\r\n",
       ".dni-code-hint {\r\n",
       "    font-style: italic;\r\n",
       "    overflow: hidden;\r\n",
       "    white-space: nowrap;\r\n",
       "}\r\n",
       ".dni-treeview {\r\n",
       "    white-space: nowrap;\r\n",
       "}\r\n",
       ".dni-treeview td {\r\n",
       "    vertical-align: top;\r\n",
       "    text-align: start;\r\n",
       "}\r\n",
       "details.dni-treeview {\r\n",
       "    padding-left: 1em;\r\n",
       "}\r\n",
       "table td {\r\n",
       "    text-align: start;\r\n",
       "}\r\n",
       "table tr { \r\n",
       "    vertical-align: top; \r\n",
       "    margin: 0em 0px;\r\n",
       "}\r\n",
       "table tr td pre \r\n",
       "{ \r\n",
       "    vertical-align: top !important; \r\n",
       "    margin: 0em 0px !important;\r\n",
       "} \r\n",
       "table th {\r\n",
       "    text-align: start;\r\n",
       "}\r\n",
       "</style>"
      ]
     },
     "metadata": {},
     "output_type": "display_data"
    }
   ],
   "source": [
    "string path  = \"Customers.txt\";\n",
    "\n",
    "Customer resultCustomer = new();\n",
    "List<Customer> customers = new();\n",
    "if (File.Exists(path)){\n",
    "\n",
    "    Console.WriteLine(\"Открываем файл\");\n",
    "    FileStream fs = new(path, FileMode.Open, FileAccess.Read);\n",
    "    StreamReader textIn = new(fs);\n",
    "\n",
    "\n",
    "    while (textIn.Peek() != -1) {\n",
    "        string row = textIn.ReadLine();\n",
    "        string[] columns = row.Split(',');\n",
    "        Console.WriteLine(row); \n",
    "\n",
    "        Customer customer = new();\n",
    "        customer.ID = columns[0];\n",
    "        customer.Name = columns[1];\n",
    "        customers.Add(customer);\n",
    "\n",
    "        customers.Add(new Customer() { ID = columns[0], Name = columns[1] });\n",
    "\n",
    "    }\n",
    "\n",
    "    resultCustomer = customers.Find(x => x.ID == \"123456\");\n",
    "\n",
    "    Console.WriteLine(\"\\nFind: Part where name contains \\\"seat\\\": {0}\",\n",
    "            customers.Find(x => x.Name.Contains(\"Denis\")));\n",
    " }\n",
    "\n",
    "resultCustomer"
   ]
  },
  {
   "cell_type": "code",
   "execution_count": 34,
   "metadata": {
    "dotnet_interactive": {
     "language": "csharp"
    },
    "polyglot_notebook": {
     "kernelName": "csharp"
    }
   },
   "outputs": [
    {
     "name": "stdout",
     "output_type": "stream",
     "text": [
      "Открываем файл\n",
      "123456, Denis\n",
      "143567, Mike,234\n",
      "342563, Susan\n"
     ]
    },
    {
     "data": {
      "text/html": [
       "<table><thead><tr><th><i>index</i></th><th>value</th></tr></thead><tbody><tr><td>0</td><td><details class=\"dni-treeview\"><summary><span class=\"dni-code-hint\"><code>Name:  Denis   ID: 123456</code></span></summary><div><table><thead><tr></tr></thead><tbody><tr><td>ID</td><td><div class=\"dni-plaintext\"><pre>123456</pre></div></td></tr><tr><td>Name</td><td><div class=\"dni-plaintext\"><pre> Denis</pre></div></td></tr></tbody></table></div></details></td></tr><tr><td>1</td><td><details class=\"dni-treeview\"><summary><span class=\"dni-code-hint\"><code>Name:  Denis   ID: 123456</code></span></summary><div><table><thead><tr></tr></thead><tbody><tr><td>ID</td><td><div class=\"dni-plaintext\"><pre>123456</pre></div></td></tr><tr><td>Name</td><td><div class=\"dni-plaintext\"><pre> Denis</pre></div></td></tr></tbody></table></div></details></td></tr><tr><td>2</td><td><details class=\"dni-treeview\"><summary><span class=\"dni-code-hint\"><code>Name:  Mike   ID: 143567</code></span></summary><div><table><thead><tr></tr></thead><tbody><tr><td>ID</td><td><div class=\"dni-plaintext\"><pre>143567</pre></div></td></tr><tr><td>Name</td><td><div class=\"dni-plaintext\"><pre> Mike</pre></div></td></tr></tbody></table></div></details></td></tr><tr><td>3</td><td><details class=\"dni-treeview\"><summary><span class=\"dni-code-hint\"><code>Name:  Mike   ID: 143567</code></span></summary><div><table><thead><tr></tr></thead><tbody><tr><td>ID</td><td><div class=\"dni-plaintext\"><pre>143567</pre></div></td></tr><tr><td>Name</td><td><div class=\"dni-plaintext\"><pre> Mike</pre></div></td></tr></tbody></table></div></details></td></tr><tr><td>4</td><td><details class=\"dni-treeview\"><summary><span class=\"dni-code-hint\"><code>Name:  Susan   ID: 342563</code></span></summary><div><table><thead><tr></tr></thead><tbody><tr><td>ID</td><td><div class=\"dni-plaintext\"><pre>342563</pre></div></td></tr><tr><td>Name</td><td><div class=\"dni-plaintext\"><pre> Susan</pre></div></td></tr></tbody></table></div></details></td></tr><tr><td>5</td><td><details class=\"dni-treeview\"><summary><span class=\"dni-code-hint\"><code>Name:  Susan   ID: 342563</code></span></summary><div><table><thead><tr></tr></thead><tbody><tr><td>ID</td><td><div class=\"dni-plaintext\"><pre>342563</pre></div></td></tr><tr><td>Name</td><td><div class=\"dni-plaintext\"><pre> Susan</pre></div></td></tr></tbody></table></div></details></td></tr></tbody></table><style>\r\n",
       ".dni-code-hint {\r\n",
       "    font-style: italic;\r\n",
       "    overflow: hidden;\r\n",
       "    white-space: nowrap;\r\n",
       "}\r\n",
       ".dni-treeview {\r\n",
       "    white-space: nowrap;\r\n",
       "}\r\n",
       ".dni-treeview td {\r\n",
       "    vertical-align: top;\r\n",
       "    text-align: start;\r\n",
       "}\r\n",
       "details.dni-treeview {\r\n",
       "    padding-left: 1em;\r\n",
       "}\r\n",
       "table td {\r\n",
       "    text-align: start;\r\n",
       "}\r\n",
       "table tr { \r\n",
       "    vertical-align: top; \r\n",
       "    margin: 0em 0px;\r\n",
       "}\r\n",
       "table tr td pre \r\n",
       "{ \r\n",
       "    vertical-align: top !important; \r\n",
       "    margin: 0em 0px !important;\r\n",
       "} \r\n",
       "table th {\r\n",
       "    text-align: start;\r\n",
       "}\r\n",
       "</style>"
      ]
     },
     "metadata": {},
     "output_type": "display_data"
    }
   ],
   "source": [
    "public class CustomerLocator\n",
    "    {\n",
    "        public List<Customer> customers = new();\n",
    "\n",
    "\n",
    "        //Читаем список пользователей из базы\n",
    "        public void readCustomers(string path)\n",
    "        {\n",
    "            if (File.Exists(path))\n",
    "            {\n",
    "\n",
    "                Console.WriteLine(\"Открываем файл\");\n",
    "                FileStream fs = new(path, FileMode.Open, FileAccess.Read);\n",
    "                StreamReader textIn = new(fs);\n",
    "\n",
    "                while (textIn.Peek() != -1)\n",
    "                {\n",
    "                    string row = textIn.ReadLine();\n",
    "                    string[] columns = row.Split(',');\n",
    "                    Console.WriteLine(row);\n",
    "\n",
    "                    Customer customer = new();\n",
    "                    customer.ID = columns[0];\n",
    "                    customer.Name = columns[1];\n",
    "                    customers.Add(customer);\n",
    "\n",
    "                    customers.Add(new Customer() { ID = columns[0], Name = columns[1] });\n",
    "\n",
    "                }\n",
    "            }\n",
    "        }\n",
    "\n",
    "        public Customer? findByName(string name)\n",
    "        {\n",
    "            return customers.Find(x => x.Name == name);\n",
    "        }\n",
    "    }\n",
    "\n",
    "    CustomerLocator loc = new();\n",
    "    loc.readCustomers(\"Customers.txt\");\n",
    "    loc.customers\n",
    "   // loc.findByName(\"Denis\")"
   ]
  },
  {
   "cell_type": "code",
   "execution_count": 69,
   "metadata": {
    "dotnet_interactive": {
     "language": "csharp"
    },
    "polyglot_notebook": {
     "kernelName": "csharp"
    }
   },
   "outputs": [
    {
     "name": "stdout",
     "output_type": "stream",
     "text": [
      "Открываем файл\n",
      "Customers.txt\n",
      "123456, Denis\n",
      "143567, Mike,234\n",
      "342563, Susan\n"
     ]
    },
    {
     "data": {
      "text/html": [
       "<details open=\"open\" class=\"dni-treeview\"><summary><span class=\"dni-code-hint\"><code>Name:  Denis   ID: 123456</code></span></summary><div><table><thead><tr></tr></thead><tbody><tr><td>ID</td><td><div class=\"dni-plaintext\"><pre>123456</pre></div></td></tr><tr><td>Name</td><td><div class=\"dni-plaintext\"><pre> Denis</pre></div></td></tr></tbody></table></div></details><style>\r\n",
       ".dni-code-hint {\r\n",
       "    font-style: italic;\r\n",
       "    overflow: hidden;\r\n",
       "    white-space: nowrap;\r\n",
       "}\r\n",
       ".dni-treeview {\r\n",
       "    white-space: nowrap;\r\n",
       "}\r\n",
       ".dni-treeview td {\r\n",
       "    vertical-align: top;\r\n",
       "    text-align: start;\r\n",
       "}\r\n",
       "details.dni-treeview {\r\n",
       "    padding-left: 1em;\r\n",
       "}\r\n",
       "table td {\r\n",
       "    text-align: start;\r\n",
       "}\r\n",
       "table tr { \r\n",
       "    vertical-align: top; \r\n",
       "    margin: 0em 0px;\r\n",
       "}\r\n",
       "table tr td pre \r\n",
       "{ \r\n",
       "    vertical-align: top !important; \r\n",
       "    margin: 0em 0px !important;\r\n",
       "} \r\n",
       "table th {\r\n",
       "    text-align: start;\r\n",
       "}\r\n",
       "</style>"
      ]
     },
     "metadata": {},
     "output_type": "display_data"
    }
   ],
   "source": [
    "public class CustomerLocator\n",
    "    {\n",
    "        public List<Customer> customers = new();\n",
    "        public string Path{get;init;}\n",
    "        private StreamReader textIn;\n",
    "\n",
    "        public CustomerLocator(string path){\n",
    "            if (File.Exists(path))\n",
    "            {\n",
    "                Console.WriteLine(\"Открываем файл\");\n",
    "                FileStream fs = new(path, FileMode.Open, FileAccess.Read);\n",
    "                textIn = new(fs);\n",
    "                Path = path;\n",
    "            }\n",
    "\n",
    "        }\n",
    "\n",
    "        //Читаем список пользователей из базы\n",
    "        public void readCustomers()\n",
    "        {\n",
    "                while (textIn.Peek() != -1)\n",
    "                {\n",
    "                    string row = textIn.ReadLine();\n",
    "                    string[] columns = row.Split(',');\n",
    "                    Console.WriteLine(row);\n",
    "\n",
    "                    Customer customer = new();\n",
    "                    customer.ID = columns[0];\n",
    "                    customer.Name = columns[1];\n",
    "                    customers.Add(customer);\n",
    "\n",
    "                    customers.Add(new Customer() { ID = columns[0], Name = columns[1] });\n",
    "\n",
    "                }\n",
    "            \n",
    "        }\n",
    "\n",
    "        public Customer? findByID(string id)\n",
    "        {\n",
    "            return customers.Find(x => x.ID == id);\n",
    "        }\n",
    "    }\n",
    "\n",
    "CustomerLocator loc = new(\"Customers.txt\");\n",
    "Console.WriteLine(loc.Path);\n",
    "//loc.Path == null;\n",
    "loc.readCustomers();\n",
    "\n",
    "loc.findByID(\"123456\")"
   ]
  },
  {
   "cell_type": "code",
   "execution_count": 45,
   "metadata": {
    "dotnet_interactive": {
     "language": "csharp"
    },
    "polyglot_notebook": {
     "kernelName": "csharp"
    }
   },
   "outputs": [],
   "source": [
    " public class Account\n",
    "    {\n",
    "        public string CustomerID { get; set; }\n",
    "        public string AccountID { get; set; }\n",
    "        public double Balance { get; set; }\n",
    "\n",
    "        public Account(){\n",
    "            \n",
    "        }\n",
    "        public Account(string customerID, string accountID)\n",
    "        {\n",
    "            CustomerID = customerID;\n",
    "            AccountID = accountID;\n",
    "        }\n",
    "        public bool withdraw(double withdraw_sum)\n",
    "        {\n",
    "            if (withdraw_sum <= Balance)\n",
    "            {\n",
    "                Balance -= withdraw_sum;\n",
    "                return true;\n",
    "            } else\n",
    "            {\n",
    "                return false;\n",
    "            }\n",
    "\n",
    "        }\n",
    "\n",
    "        public override string ToString() {\n",
    "            return \"Customer ID: \" + CustomerID + \"Account ID: \" + AccountID + \"  Balance: \" + Balance;\n",
    "        }\n",
    "    }"
   ]
  },
  {
   "cell_type": "code",
   "execution_count": 42,
   "metadata": {
    "dotnet_interactive": {
     "language": "csharp"
    },
    "polyglot_notebook": {
     "kernelName": "csharp"
    }
   },
   "outputs": [
    {
     "name": "stdout",
     "output_type": "stream",
     "text": [
      "Открываем файл\n",
      "123456,12345678, 120\n",
      "123456,12342312,2340\n",
      "143567,125323423,340\n",
      "143567,232133333,420\n",
      "342563,23111111,240\n",
      "342563,23232322,340\n"
     ]
    },
    {
     "data": {
      "text/html": [
       "<table><thead><tr><th><i>index</i></th><th>value</th></tr></thead><tbody><tr><td>0</td><td><details class=\"dni-treeview\"><summary><span class=\"dni-code-hint\"><code>Customer ID: 123456Account ID: 12345678  Balance: 120</code></span></summary><div><table><thead><tr></tr></thead><tbody><tr><td>CustomerID</td><td><div class=\"dni-plaintext\"><pre>123456</pre></div></td></tr><tr><td>AccountID</td><td><div class=\"dni-plaintext\"><pre>12345678</pre></div></td></tr><tr><td>Balance</td><td><div class=\"dni-plaintext\"><pre>120</pre></div></td></tr></tbody></table></div></details></td></tr><tr><td>1</td><td><details class=\"dni-treeview\"><summary><span class=\"dni-code-hint\"><code>Customer ID: 123456Account ID: 12342312  Balance: 2340</code></span></summary><div><table><thead><tr></tr></thead><tbody><tr><td>CustomerID</td><td><div class=\"dni-plaintext\"><pre>123456</pre></div></td></tr><tr><td>AccountID</td><td><div class=\"dni-plaintext\"><pre>12342312</pre></div></td></tr><tr><td>Balance</td><td><div class=\"dni-plaintext\"><pre>2340</pre></div></td></tr></tbody></table></div></details></td></tr></tbody></table><style>\r\n",
       ".dni-code-hint {\r\n",
       "    font-style: italic;\r\n",
       "    overflow: hidden;\r\n",
       "    white-space: nowrap;\r\n",
       "}\r\n",
       ".dni-treeview {\r\n",
       "    white-space: nowrap;\r\n",
       "}\r\n",
       ".dni-treeview td {\r\n",
       "    vertical-align: top;\r\n",
       "    text-align: start;\r\n",
       "}\r\n",
       "details.dni-treeview {\r\n",
       "    padding-left: 1em;\r\n",
       "}\r\n",
       "table td {\r\n",
       "    text-align: start;\r\n",
       "}\r\n",
       "table tr { \r\n",
       "    vertical-align: top; \r\n",
       "    margin: 0em 0px;\r\n",
       "}\r\n",
       "table tr td pre \r\n",
       "{ \r\n",
       "    vertical-align: top !important; \r\n",
       "    margin: 0em 0px !important;\r\n",
       "} \r\n",
       "table th {\r\n",
       "    text-align: start;\r\n",
       "}\r\n",
       "</style>"
      ]
     },
     "metadata": {},
     "output_type": "display_data"
    }
   ],
   "source": [
    "string path  = \"Accounts.txt\";\n",
    "\n",
    "List<Account> accounts = new();\n",
    "\n",
    "string targetID = \"123456\";\n",
    "if (File.Exists(path)){\n",
    "\n",
    "    Console.WriteLine(\"Открываем файл\");\n",
    "    FileStream fs = new(path, FileMode.Open, FileAccess.Read);\n",
    "    StreamReader textIn = new(fs);\n",
    "\n",
    "\n",
    "    while (textIn.Peek() != -1) {\n",
    "        string row = textIn.ReadLine();\n",
    "        string[] columns = row.Split(',');\n",
    "        Console.WriteLine(row); \n",
    "\n",
    "        if (columns[0] == targetID) {\n",
    "            Account account = new(columns[0], columns[1]);\n",
    "            account.Balance = Convert.ToDouble(columns[2]);\n",
    "            accounts.Add(account);\n",
    "        }\n",
    "\n",
    "    }\n",
    "\n",
    " }\n",
    "\n",
    "accounts"
   ]
  },
  {
   "cell_type": "code",
   "execution_count": 46,
   "metadata": {
    "dotnet_interactive": {
     "language": "csharp"
    },
    "polyglot_notebook": {
     "kernelName": "csharp"
    }
   },
   "outputs": [
    {
     "name": "stdout",
     "output_type": "stream",
     "text": [
      "Открываем файл\n",
      "123456,12345678, 120\n",
      "123456,12342312,2340\n",
      "143567,125323423,340\n",
      "143567,232133333,420\n",
      "342563,23111111,240\n",
      "342563,23232322,340\n"
     ]
    }
   ],
   "source": [
    "string path  = \"Accounts.txt\";\n",
    "\n",
    "List<Account> accounts = new();\n",
    "\n",
    "if (File.Exists(path)){\n",
    "\n",
    "    Console.WriteLine(\"Открываем файл\");\n",
    "    FileStream fs = new(path, FileMode.Open, FileAccess.Read);\n",
    "    StreamReader textIn = new(fs);\n",
    "\n",
    "\n",
    "    while (textIn.Peek() != -1) {\n",
    "        string row = textIn.ReadLine();\n",
    "        string[] columns = row.Split(',');\n",
    "        Console.WriteLine(row); \n",
    "\n",
    "        Account account = new();\n",
    "        account.CustomerID = columns[0];\n",
    "        account.AccountID = columns[1];\n",
    "        account.Balance = Convert.ToDouble(columns[2]);\n",
    "        accounts.Add(account);\n",
    "    }\n",
    "}"
   ]
  },
  {
   "cell_type": "code",
   "execution_count": 46,
   "metadata": {
    "dotnet_interactive": {
     "language": "csharp"
    },
    "polyglot_notebook": {
     "kernelName": "csharp"
    }
   },
   "outputs": [
    {
     "data": {
      "text/plain": [
       "d:\\Code\\C#\\Murach"
      ]
     },
     "metadata": {},
     "output_type": "display_data"
    }
   ],
   "source": [
    "string path = Directory.GetCurrentDirectory();\n",
    "path"
   ]
  },
  {
   "cell_type": "code",
   "execution_count": 55,
   "metadata": {
    "dotnet_interactive": {
     "language": "csharp"
    },
    "polyglot_notebook": {
     "kernelName": "csharp"
    }
   },
   "outputs": [],
   "source": [
    "public class WithDrawFundsWorkflow\n",
    "{\n",
    "    public List<Account> accounts = new();\n",
    "\n",
    "    public bool ValidatePin(string pin){\n",
    "        bool res = true;\n",
    "        return res;\n",
    "    }\n",
    "\n",
    "    public void  getAccounts() {\n",
    "        string path  = \"Accounts.txt\";\n",
    "\n",
    "        if (File.Exists(path)){\n",
    "\n",
    "            Console.WriteLine(\"Открываем файл\");\n",
    "            FileStream fs = new(path, FileMode.Open, FileAccess.Read);\n",
    "            StreamReader textIn = new(fs);\n",
    "\n",
    "\n",
    "            while (textIn.Peek() != -1) {\n",
    "                string row = textIn.ReadLine();\n",
    "                string[] columns = row.Split(',');\n",
    "                Console.WriteLine(row); \n",
    "\n",
    "                Account account = new();\n",
    "                account.CustomerID = columns[0];\n",
    "                account.AccountID = columns[1];\n",
    "                account.Balance = Convert.ToDouble(columns[2]);\n",
    "                accounts.Add(account);\n",
    "            }\n",
    "        }\n",
    "    }\n",
    "\n",
    "    public Account selectAccount() {\n",
    "        Account acc = new();\n",
    "        return acc;\n",
    "    }\n",
    "\n",
    "    public double enterAmount() {\n",
    "        double amount = 0;\n",
    "        return amount;\n",
    "    }\n",
    "\n",
    "    public void withdraw(double sum) {\n",
    "        \n",
    "    }\n",
    "}"
   ]
  },
  {
   "cell_type": "code",
   "execution_count": 66,
   "metadata": {
    "dotnet_interactive": {
     "language": "csharp"
    },
    "polyglot_notebook": {
     "kernelName": "csharp"
    }
   },
   "outputs": [],
   "source": [
    "class WithdrawFundsUI {\n",
    "    public WithDrawFundsWorkflow workflow = new();\n",
    "    public string card = \"\";\n",
    "\n",
    "    public void enterCard() {\n",
    "        Console.WriteLine(\"Enter card number:\");\n",
    "\n",
    "        string? card_number = Console.ReadLine();\n",
    "        if (card_number != null & card_number.Length != 6) {\n",
    "            Console.WriteLine(\"Неверные данные карты:\");\n",
    "        } else {\n",
    "            card = card_number;\n",
    "        }\n",
    "    }\n",
    "\n",
    "    public bool enterPIN(string card){\n",
    "        \n",
    "        Console.WriteLine(\"Enter PIN:\");\n",
    "        bool res =  true;\n",
    "        return res;\n",
    "    }\n",
    "\n",
    "    public Account selectAccount() {\n",
    "        Account acc = new();\n",
    "        return acc;\n",
    "    }\n",
    "\n",
    "    public double enterAmount() {\n",
    "        double res = 0;\n",
    "        return res;\n",
    "    }\n",
    "\n",
    "    public void displayAccount() {\n",
    "\n",
    "    }\n",
    "}"
   ]
  },
  {
   "cell_type": "code",
   "execution_count": 68,
   "metadata": {
    "dotnet_interactive": {
     "language": "csharp"
    },
    "polyglot_notebook": {
     "kernelName": "csharp"
    }
   },
   "outputs": [
    {
     "data": {
      "text/html": [
       "<div class=\"dni-plaintext\"><pre>5</pre></div><style>\r\n",
       ".dni-code-hint {\r\n",
       "    font-style: italic;\r\n",
       "    overflow: hidden;\r\n",
       "    white-space: nowrap;\r\n",
       "}\r\n",
       ".dni-treeview {\r\n",
       "    white-space: nowrap;\r\n",
       "}\r\n",
       ".dni-treeview td {\r\n",
       "    vertical-align: top;\r\n",
       "    text-align: start;\r\n",
       "}\r\n",
       "details.dni-treeview {\r\n",
       "    padding-left: 1em;\r\n",
       "}\r\n",
       "table td {\r\n",
       "    text-align: start;\r\n",
       "}\r\n",
       "table tr { \r\n",
       "    vertical-align: top; \r\n",
       "    margin: 0em 0px;\r\n",
       "}\r\n",
       "table tr td pre \r\n",
       "{ \r\n",
       "    vertical-align: top !important; \r\n",
       "    margin: 0em 0px !important;\r\n",
       "} \r\n",
       "table th {\r\n",
       "    text-align: start;\r\n",
       "}\r\n",
       "</style>"
      ]
     },
     "metadata": {},
     "output_type": "display_data"
    }
   ],
   "source": [
    "int result = 3 + 1 * 5 / 2;\n",
    "result"
   ]
  },
  {
   "cell_type": "code",
   "execution_count": null,
   "metadata": {
    "dotnet_interactive": {
     "language": "csharp"
    },
    "polyglot_notebook": {
     "kernelName": "csharp"
    }
   },
   "outputs": [],
   "source": [
    "int"
   ]
  }
 ],
 "metadata": {
  "kernelspec": {
   "display_name": ".NET (C#)",
   "language": "C#",
   "name": ".net-csharp"
  },
  "language_info": {
   "name": "polyglot-notebook"
  },
  "polyglot_notebook": {
   "kernelInfo": {
    "defaultKernelName": "csharp",
    "items": [
     {
      "aliases": [],
      "languageName": "csharp",
      "name": "csharp"
     }
    ]
   }
  }
 },
 "nbformat": 4,
 "nbformat_minor": 2
}
