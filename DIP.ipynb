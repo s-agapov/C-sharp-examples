{
 "cells": [
  {
   "attachments": {},
   "cell_type": "markdown",
   "metadata": {},
   "source": [
    "### Dependency reversion principle"
   ]
  },
  {
   "attachments": {},
   "cell_type": "markdown",
   "metadata": {},
   "source": [
    "#### Lamp-Button Example"
   ]
  },
  {
   "cell_type": "code",
   "execution_count": 12,
   "metadata": {
    "dotnet_interactive": {
     "language": "csharp"
    },
    "polyglot_notebook": {
     "kernelName": "csharp"
    }
   },
   "outputs": [],
   "source": [
    "\n",
    "class Lamp {\n",
    "    public string itsType { get; set; } \n",
    "    public Lamp(string type)\n",
    "    {\n",
    "        this.itsType = type;\n",
    "    }\n",
    "\n",
    "    public void turnOn() {\n",
    "        Console.WriteLine(\"Включить лампочку:\");\n",
    "    }\n",
    "\n",
    "    public void turnOff() {\n",
    "        Console.WriteLine(\"Выключить лампочку:\");\n",
    "    }\n",
    "\n",
    "}\n",
    "\n",
    "\n",
    "\n",
    "class Button {\n",
    "    public string itsType { get; set; }\n",
    "    bool btnState;\n",
    "    public Button(string type)\n",
    "    {\n",
    "        this.itsType = type;\n",
    "    }\n",
    "\n",
    "    public void poll(Lamp itsLamp) {\n",
    "\n",
    "        if (btnState) {\n",
    "            itsLamp.turnOn();\n",
    "\n",
    "        } else {\n",
    "            itsLamp.turnOff();\n",
    "        }\n",
    "\n",
    "        btnState = !btnState;\n",
    "    }\n",
    "\n",
    "}\n"
   ]
  },
  {
   "cell_type": "code",
   "execution_count": 13,
   "metadata": {
    "dotnet_interactive": {
     "language": "csharp"
    },
    "polyglot_notebook": {
     "kernelName": "csharp"
    }
   },
   "outputs": [
    {
     "name": "stdout",
     "output_type": "stream",
     "text": [
      "Выключить лампочку:\n",
      "Включить лампочку:\n",
      "Выключить лампочку:\n"
     ]
    }
   ],
   "source": [
    "Lamp lmp = new(\"power lamp\");\n",
    "Button btn = new(\"switch button\");\n",
    "btn.poll(lmp);\n",
    "btn.poll(lmp);\n",
    "btn.poll(lmp);"
   ]
  },
  {
   "cell_type": "code",
   "execution_count": 11,
   "metadata": {
    "dotnet_interactive": {
     "language": "csharp"
    },
    "polyglot_notebook": {
     "kernelName": "csharp"
    }
   },
   "outputs": [],
   "source": [
    "class Button\n",
    "{\n",
    "    public string btnType { get; set; }\n",
    "    bool btnState;\n",
    "    public Button(string type)\n",
    "    {\n",
    "        this.btnType = type;\n",
    "    }\n",
    " \n",
    "    public void poll(SwitchableDevices device)\n",
    "    {\n",
    "        Console.WriteLine(\"Кнопка: \" + btnType);\n",
    "        if (btnState) {\n",
    "            device.turnOn();\n",
    "        } else {\n",
    "            device.turnOff();\n",
    "        }\n",
    "        btnState = !btnState;\n",
    "    }\n",
    "}\n",
    " \n",
    "interface SwitchableDevices\n",
    "{\n",
    "    void turnOn();\n",
    "    void turnOff();\n",
    "}\n",
    "\n",
    "class powerLamp : SwitchableDevices\n",
    "{\n",
    "    public void turnOn()\n",
    "    {\n",
    "        Console.WriteLine(\"Подаем напряжение 220B\");\n",
    "        Console.WriteLine(\"Включаем стабилизатор\");\n",
    "    }\n",
    "\n",
    "        public void turnOff()\n",
    "    {\n",
    "        Console.WriteLine(\"Выключем напряжение 220B\");\n",
    "        Console.WriteLine(\"Выключаем стаблизатор\");\n",
    "\n",
    "    }\n",
    "\n",
    "}\n",
    "class neonLamp : SwitchableDevices\n",
    "{\n",
    "   public void turnOn()\n",
    "    {\n",
    "        Console.WriteLine(\"Включаем трансформатор\");\n",
    "        Console.WriteLine(\"Запускаем прогрев\");\n",
    "        Console.WriteLine(\"Подаем напряжение 12B\");\n",
    "    }\n",
    "\n",
    "    public void turnOff()\n",
    "    {\n",
    "        Console.WriteLine(\"Отключаем напряжение 12B\");\n",
    "        Console.WriteLine(\"Выключаем трансформатор\");\n",
    "\n",
    "    }\n",
    "\n",
    "}"
   ]
  }
 ],
 "metadata": {
  "kernelspec": {
   "display_name": ".NET (C#)",
   "language": "C#",
   "name": ".net-csharp"
  },
  "language_info": {
   "name": "polyglot-notebook"
  },
  "polyglot_notebook": {
   "kernelInfo": {
    "defaultKernelName": "csharp",
    "items": [
     {
      "aliases": [],
      "languageName": "csharp",
      "name": "csharp"
     }
    ]
   }
  }
 },
 "nbformat": 4,
 "nbformat_minor": 2
}
