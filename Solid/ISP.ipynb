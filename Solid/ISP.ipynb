{
 "cells": [
  {
   "attachments": {},
   "cell_type": "markdown",
   "metadata": {},
   "source": [
    "ISP: The Interface segregation Principle. Принцип разделения интерфейсов."
   ]
  },
  {
   "attachments": {},
   "cell_type": "markdown",
   "metadata": {},
   "source": [
    "Принцип относится к тем случаям, когда классы имеют слишком раздутый интерфейс, не все методы и свойства которого используются и могут быть востребованы. Таким образом, интерфейс получатся слишком избыточен или \"жирным\".\n",
    "\n",
    "Принцип разделения интерфейсов можно сформулировать так:\n",
    "\n",
    "Клиенты не должны вынужденно зависеть от методов, которыми не пользуются."
   ]
  },
  {
   "attachments": {},
   "cell_type": "markdown",
   "metadata": {},
   "source": [
    "#### **Message Example**"
   ]
  },
  {
   "cell_type": "code",
   "execution_count": 5,
   "metadata": {
    "dotnet_interactive": {
     "language": "csharp"
    },
    "polyglot_notebook": {
     "kernelName": "csharp"
    }
   },
   "outputs": [],
   "source": [
    "interface IMessage\n",
    "{\n",
    "    void Send();\n",
    "    string Text { get; set;}\n",
    "    string Subject { get; set;}\n",
    "    string ToAddress { get; set; }\n",
    "    string FromAddress { get; set; }\n",
    "}"
   ]
  },
  {
   "cell_type": "code",
   "execution_count": 3,
   "metadata": {
    "dotnet_interactive": {
     "language": "csharp"
    },
    "polyglot_notebook": {
     "kernelName": "csharp"
    }
   },
   "outputs": [],
   "source": [
    "class EmailMessage : IMessage\n",
    "{\n",
    "    public string Subject { get; set; } = \"\";\n",
    "    public string Text { get; set; } = \"\";\n",
    "    public string FromAddress { get; set; } = \"\";\n",
    "    public string ToAddress { get; set; } = \"\";\n",
    " \n",
    "    public void Send() => Console.WriteLine($\"Отправляем Email-сообщение: {Text}\");\n",
    "}"
   ]
  },
  {
   "attachments": {},
   "cell_type": "markdown",
   "metadata": {},
   "source": [
    "Класс глосового сообщения нужндается в дополнительном поле"
   ]
  },
  {
   "cell_type": "code",
   "execution_count": null,
   "metadata": {
    "dotnet_interactive": {
     "language": "csharp"
    },
    "polyglot_notebook": {
     "kernelName": "csharp"
    }
   },
   "outputs": [],
   "source": [
    "class VoiceMessage : IMessage\n",
    "{\n",
    "    public string ToAddress { get; set; } = \"\";\n",
    "    public string FromAddress { get; set; } = \"\";\n",
    "    public byte[] Voice { get; set; } = new byte[] {};\n",
    " \n",
    "    public string Text\n",
    "    {\n",
    "        get\n",
    "        {\n",
    "            throw new NotImplementedException();\n",
    "        }\n",
    " \n",
    "        set\n",
    "        {\n",
    "            throw new NotImplementedException();\n",
    "        }\n",
    "    }\n",
    " \n",
    "    public string Subject\n",
    "    {\n",
    "        get\n",
    "        {\n",
    "            throw new NotImplementedException();\n",
    "        }\n",
    " \n",
    "        set\n",
    "        {\n",
    "            throw new NotImplementedException();\n",
    "        }\n",
    "    }\n",
    " \n",
    "    public void Send() => Console.WriteLine(\"Передача голосовой почты\");\n",
    "}"
   ]
  },
  {
   "cell_type": "code",
   "execution_count": 4,
   "metadata": {
    "dotnet_interactive": {
     "language": "csharp"
    },
    "polyglot_notebook": {
     "kernelName": "csharp"
    }
   },
   "outputs": [],
   "source": [
    "interface IMessage\n",
    "{\n",
    "    void Send();\n",
    "    string Text { get; set;}\n",
    "    string ToAddress { get; set; }\n",
    "    string Subject { get; set; }\n",
    "    string FromAddress { get; set; }\n",
    " \n",
    "    byte[] Voice { get; set; }\n",
    "}"
   ]
  },
  {
   "attachments": {},
   "cell_type": "markdown",
   "metadata": {},
   "source": [
    "Проблема: в класс Email нужно добавить не нужное свойство"
   ]
  },
  {
   "cell_type": "code",
   "execution_count": 6,
   "metadata": {
    "dotnet_interactive": {
     "language": "csharp"
    },
    "polyglot_notebook": {
     "kernelName": "csharp"
    }
   },
   "outputs": [],
   "source": [
    "class SmsMessage : IMessage\n",
    "{\n",
    "    public string Text { get; set; } = \"\";\n",
    "    public string FromAddress { get; set; } = \"\";\n",
    "    public string ToAddress { get; set; } = \"\";\n",
    " \n",
    "    public string Subject\n",
    "    {\n",
    "        get\n",
    "        {\n",
    "            throw new NotImplementedException();\n",
    "        }\n",
    " \n",
    "        set\n",
    "        {\n",
    "            throw new NotImplementedException();\n",
    "        }\n",
    "    }\n",
    " \n",
    "    public void Send() => Console.WriteLine($\"Отправляем Sms-сообщение: {Text}\");\n",
    "}"
   ]
  },
  {
   "cell_type": "markdown",
   "metadata": {},
   "source": [
    "Для класса SMSMessage интерфейс уже избытычен и нужно реализовать дополнительно свойсво Voice"
   ]
  },
  {
   "cell_type": "code",
   "execution_count": 8,
   "metadata": {
    "dotnet_interactive": {
     "language": "csharp"
    },
    "polyglot_notebook": {
     "kernelName": "csharp"
    }
   },
   "outputs": [],
   "source": [
    "interface IMessage\n",
    "{\n",
    "    void Send();\n",
    "    string ToAddress { get; set; }\n",
    "    string FromAddress { get; set; }\n",
    "}\n",
    "interface IVoiceMessage : IMessage\n",
    "{\n",
    "    byte[] Voice { get; set; }\n",
    "}\n",
    "interface ITextMessage : IMessage\n",
    "{\n",
    "    string Text { get; set; }\n",
    "}\n",
    " \n",
    "interface IEmailMessage : ITextMessage\n",
    "{\n",
    "    string Subject { get; set; }\n",
    "}\n",
    " \n",
    "class VoiceMessage : IVoiceMessage\n",
    "{\n",
    "    public string ToAddress { get; set; } = \"\";\n",
    "    public string FromAddress { get; set; } = \"\";\n",
    " \n",
    "    public byte[] Voice { get; set; } = Array.Empty<byte>(); \n",
    "    public void Send() => Console.WriteLine(\"Передача голосовой почты\");\n",
    "}\n",
    "class EmailMessage : IEmailMessage\n",
    "{\n",
    "    public string Text { get; set; } = \"\";\n",
    "    public string Subject { get; set; } = \"\";\n",
    "    public string FromAddress { get; set; } = \"\";\n",
    "    public string ToAddress { get; set; } = \"\";\n",
    " \n",
    "    public void Send() => Console.WriteLine(\"Отправляем по Email сообщение: {Text}\");\n",
    "}\n",
    " \n",
    "class SmsMessage : ITextMessage\n",
    "{\n",
    "    public string Text { get; set; } = \"\";\n",
    "    public string FromAddress { get; set; } = \"\";\n",
    "    public string ToAddress { get; set; } = \"\";\n",
    "    public void Send() => Console.WriteLine(\"Отправляем по Sms сообщение: {Text}\");\n",
    "}"
   ]
  }
 ],
 "metadata": {
  "kernelspec": {
   "display_name": ".NET (C#)",
   "language": "C#",
   "name": ".net-csharp"
  },
  "language_info": {
   "name": "polyglot-notebook"
  },
  "polyglot_notebook": {
   "kernelInfo": {
    "defaultKernelName": "csharp",
    "items": [
     {
      "aliases": [],
      "languageName": "csharp",
      "name": "csharp"
     }
    ]
   }
  }
 },
 "nbformat": 4,
 "nbformat_minor": 2
}
