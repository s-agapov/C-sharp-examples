{
 "cells": [
  {
   "attachments": {},
   "cell_type": "markdown",
   "metadata": {},
   "source": [
    "### **OCP. Open-Close Principle. Принцип закрытости/открытости**"
   ]
  },
  {
   "attachments": {},
   "cell_type": "markdown",
   "metadata": {},
   "source": [
    "##### **Employee Example**"
   ]
  },
  {
   "cell_type": "code",
   "execution_count": 10,
   "metadata": {
    "dotnet_interactive": {
     "language": "csharp"
    },
    "polyglot_notebook": {
     "kernelName": "csharp"
    }
   },
   "outputs": [],
   "source": [
    "public class Employee\n",
    "    {\n",
    "        public string Name { get; set; }\n",
    "        public int ID { get; set; }\n",
    "       \n",
    "\n",
    "        public Employee( string name) {\n",
    "            this.Name = name;\n",
    "        }\n",
    "        /// Данный метод добавляет в БД нового сотрудника\n",
    "        \n",
    "        public bool Add(Employee emp)\n",
    "        {\n",
    "            // Вставить данные сотрудника в таблицу БД\n",
    "            return true;\n",
    "        }\n",
    "    }\n",
    "\n"
   ]
  },
  {
   "cell_type": "code",
   "execution_count": 11,
   "metadata": {
    "dotnet_interactive": {
     "language": "csharp"
    },
    "polyglot_notebook": {
     "kernelName": "csharp"
    }
   },
   "outputs": [
    {
     "data": {
      "text/html": [
       "<details open=\"open\" class=\"dni-treeview\"><summary><span class=\"dni-code-hint\"><code>Submission#11+Employee</code></span></summary><div><table><thead><tr></tr></thead><tbody><tr><td>Name</td><td>Сергей</td></tr><tr><td>ID</td><td><div class=\"dni-plaintext\"><pre>0</pre></div></td></tr></tbody></table></div></details><style>\r\n",
       ".dni-code-hint {\r\n",
       "    font-style: italic;\r\n",
       "    overflow: hidden;\r\n",
       "    white-space: nowrap;\r\n",
       "}\r\n",
       ".dni-treeview {\r\n",
       "    white-space: nowrap;\r\n",
       "}\r\n",
       ".dni-treeview td {\r\n",
       "    vertical-align: top;\r\n",
       "    text-align: start;\r\n",
       "}\r\n",
       "details.dni-treeview {\r\n",
       "    padding-left: 1em;\r\n",
       "}\r\n",
       "table td {\r\n",
       "    text-align: start;\r\n",
       "}\r\n",
       "table tr { \r\n",
       "    vertical-align: top; \r\n",
       "    margin: 0em 0px;\r\n",
       "}\r\n",
       "table tr td pre \r\n",
       "{ \r\n",
       "    vertical-align: top !important; \r\n",
       "    margin: 0em 0px !important;\r\n",
       "} \r\n",
       "table th {\r\n",
       "    text-align: start;\r\n",
       "}\r\n",
       "</style>"
      ]
     },
     "metadata": {},
     "output_type": "display_data"
    }
   ],
   "source": [
    "Employee emp = new(\"Сергей\");\n",
    "emp"
   ]
  },
  {
   "attachments": {},
   "cell_type": "markdown",
   "metadata": {},
   "source": [
    "Нам необходим функционал по печати отчетов в различных форматах. Мы написали следующий класс:"
   ]
  },
  {
   "cell_type": "code",
   "execution_count": 12,
   "metadata": {
    "dotnet_interactive": {
     "language": "csharp"
    },
    "polyglot_notebook": {
     "kernelName": "csharp"
    }
   },
   "outputs": [],
   "source": [
    "\n",
    "public class EmployeeReport\n",
    "{\n",
    "    \n",
    "    /// Тип отчета\n",
    "    \n",
    "    public string TypeReport { get; set; }\n",
    "\n",
    "    public EmployeeReport (string type){\n",
    "        this.TypeReport = type;\n",
    "    }\n",
    "    /// Отчет по сотруднику\n",
    "    \n",
    "    public void GenerateReport(Employee em)\n",
    "    {\n",
    "        if (TypeReport == \"CSV\")\n",
    "        {   \n",
    "            Console.WriteLine(em.Name);\n",
    "            Console.WriteLine(\"Отчет в формате CSV\");\n",
    "            // Генерация отчета в формате CSV\n",
    "        }\n",
    "\n",
    "        if (TypeReport == \"PDF\")\n",
    "        {\n",
    "            Console.WriteLine(em.Name);\n",
    "            Console.WriteLine(\"Отчет в формате PDF\");\n",
    "            // Генерация отчета в формате PDF\n",
    "        }\n",
    "    }\n",
    "}\n",
    "\n"
   ]
  },
  {
   "cell_type": "code",
   "execution_count": 13,
   "metadata": {
    "dotnet_interactive": {
     "language": "csharp"
    },
    "polyglot_notebook": {
     "kernelName": "csharp"
    }
   },
   "outputs": [
    {
     "data": {
      "text/html": [
       "<details open=\"open\" class=\"dni-treeview\"><summary><span class=\"dni-code-hint\"><code>Submission#13+EmployeeReport</code></span></summary><div><table><thead><tr></tr></thead><tbody><tr><td>TypeReport</td><td>CSV</td></tr></tbody></table></div></details><style>\r\n",
       ".dni-code-hint {\r\n",
       "    font-style: italic;\r\n",
       "    overflow: hidden;\r\n",
       "    white-space: nowrap;\r\n",
       "}\r\n",
       ".dni-treeview {\r\n",
       "    white-space: nowrap;\r\n",
       "}\r\n",
       ".dni-treeview td {\r\n",
       "    vertical-align: top;\r\n",
       "    text-align: start;\r\n",
       "}\r\n",
       "details.dni-treeview {\r\n",
       "    padding-left: 1em;\r\n",
       "}\r\n",
       "table td {\r\n",
       "    text-align: start;\r\n",
       "}\r\n",
       "table tr { \r\n",
       "    vertical-align: top; \r\n",
       "    margin: 0em 0px;\r\n",
       "}\r\n",
       "table tr td pre \r\n",
       "{ \r\n",
       "    vertical-align: top !important; \r\n",
       "    margin: 0em 0px !important;\r\n",
       "} \r\n",
       "table th {\r\n",
       "    text-align: start;\r\n",
       "}\r\n",
       "</style>"
      ]
     },
     "metadata": {},
     "output_type": "display_data"
    }
   ],
   "source": [
    "EmployeeReport rep = new(\"CSV\");\n",
    "rep"
   ]
  },
  {
   "cell_type": "code",
   "execution_count": 14,
   "metadata": {
    "dotnet_interactive": {
     "language": "csharp"
    },
    "polyglot_notebook": {
     "kernelName": "csharp"
    }
   },
   "outputs": [
    {
     "name": "stdout",
     "output_type": "stream",
     "text": [
      "Сергей\n",
      "Отчет в формате CSV\n"
     ]
    }
   ],
   "source": [
    "rep.GenerateReport(emp);"
   ]
  },
  {
   "attachments": {},
   "cell_type": "markdown",
   "metadata": {},
   "source": [
    "Проблема: Если мы захотим внести новый тип отчета (например, для выгрузки в Excel), нам понадобится добавить новое условие if.\n",
    "\n",
    "Но согласно принципу OCP, наш класс должен быть закрыт от модификаций и открыт для расширений.\n",
    "\n",
    "Ниже показано, как это можно сделать:"
   ]
  },
  {
   "cell_type": "code",
   "execution_count": 16,
   "metadata": {
    "dotnet_interactive": {
     "language": "csharp"
    },
    "polyglot_notebook": {
     "kernelName": "csharp"
    }
   },
   "outputs": [],
   "source": [
    "public class IEmployeeReport\n",
    "{\n",
    "    \n",
    "    /// Метод для создания отчета\n",
    "    \n",
    "    public virtual void GenerateReport(Employee em)\n",
    "    {\n",
    "        // Базовая реализация, которую нельзя модифицировать\n",
    "        Console.WriteLine(em.Name);\n",
    "    }\n",
    "}\n",
    "\n",
    "public class EmployeeCSVReport : IEmployeeReport\n",
    "{\n",
    "    public override void GenerateReport(Employee em)\n",
    "    {\n",
    "            Console.WriteLine(em.Name);\n",
    "            Console.WriteLine(\"Отчет в формате CSV\");\n",
    "        // Генерация отчета в формате CSV\n",
    "    }\n",
    "}\n",
    "\n",
    "public class EmployeePDFReport : IEmployeeReport\n",
    "{\n",
    "    public override void GenerateReport(Employee em)\n",
    "    {\n",
    "        Console.WriteLine(em.Name);\n",
    "        Console.WriteLine(\"Отчет в формате PDF\");\n",
    "        // Генерация отчета в формате PDF\n",
    "    }\n",
    "}"
   ]
  },
  {
   "cell_type": "code",
   "execution_count": 17,
   "metadata": {
    "dotnet_interactive": {
     "language": "csharp"
    },
    "polyglot_notebook": {
     "kernelName": "csharp"
    }
   },
   "outputs": [
    {
     "name": "stdout",
     "output_type": "stream",
     "text": [
      "Сергей\r\n"
     ]
    }
   ],
   "source": [
    "IEmployeeReport irep = new();\n",
    "irep.GenerateReport(emp);"
   ]
  },
  {
   "cell_type": "code",
   "execution_count": 18,
   "metadata": {
    "dotnet_interactive": {
     "language": "csharp"
    },
    "polyglot_notebook": {
     "kernelName": "csharp"
    }
   },
   "outputs": [
    {
     "name": "stdout",
     "output_type": "stream",
     "text": [
      "Сергей\n",
      "Отчет в формате CSV\n"
     ]
    }
   ],
   "source": [
    "EmployeeCSVReport csvrep = new();\n",
    "csvrep.GenerateReport(emp);"
   ]
  },
  {
   "cell_type": "code",
   "execution_count": 19,
   "metadata": {
    "dotnet_interactive": {
     "language": "csharp"
    },
    "polyglot_notebook": {
     "kernelName": "csharp"
    }
   },
   "outputs": [
    {
     "name": "stdout",
     "output_type": "stream",
     "text": [
      "Сергей\n",
      "Отчет в формате PDF\n"
     ]
    }
   ],
   "source": [
    "EmployeePDFReport pdfrep = new();\n",
    "pdfrep.GenerateReport(emp);"
   ]
  },
  {
   "attachments": {},
   "cell_type": "markdown",
   "metadata": {},
   "source": [
    "#### **Cook Example**"
   ]
  },
  {
   "cell_type": "code",
   "execution_count": 20,
   "metadata": {
    "dotnet_interactive": {
     "language": "csharp"
    },
    "polyglot_notebook": {
     "kernelName": "csharp"
    }
   },
   "outputs": [],
   "source": [
    "class Cook\n",
    "{\n",
    "    public string Name { get; set; }\n",
    "    public Cook(string name)\n",
    "    {\n",
    "        this.Name = name;\n",
    "    }\n",
    " \n",
    "    public void MakeDinner()\n",
    "    {\n",
    "        Console.WriteLine(\"Чистим картошку\");\n",
    "        Console.WriteLine(\"Ставим почищенную картошку на огонь\");\n",
    "        Console.WriteLine(\"Сливаем остатки воды, разминаем варенный картофель в пюре\");\n",
    "        Console.WriteLine(\"Посыпаем пюре специями и зеленью\");\n",
    "        Console.WriteLine(\"Картофельное пюре готово\");\n",
    "    }\n",
    "}"
   ]
  },
  {
   "cell_type": "code",
   "execution_count": 21,
   "metadata": {
    "dotnet_interactive": {
     "language": "csharp"
    },
    "polyglot_notebook": {
     "kernelName": "csharp"
    }
   },
   "outputs": [
    {
     "name": "stdout",
     "output_type": "stream",
     "text": [
      "Чистим картошку\n",
      "Ставим почищенную картошку на огонь\n",
      "Сливаем остатки воды, разминаем варенный картофель в пюре\n",
      "Посыпаем пюре специями и зеленью\n",
      "Картофельное пюре готово\n"
     ]
    }
   ],
   "source": [
    "Cook bob = new Cook(\"Bob\");\n",
    "bob.MakeDinner();"
   ]
  },
  {
   "attachments": {},
   "cell_type": "markdown",
   "metadata": {},
   "source": [
    "#### Strategy Pattern (Стратегия). Использует концепцию делегирования."
   ]
  },
  {
   "cell_type": "code",
   "execution_count": 22,
   "metadata": {
    "dotnet_interactive": {
     "language": "csharp"
    },
    "polyglot_notebook": {
     "kernelName": "csharp"
    }
   },
   "outputs": [],
   "source": [
    "class Cook\n",
    "{\n",
    "    public string Name { get; set; }\n",
    " \n",
    "    public Cook(string name)\n",
    "    {\n",
    "        this.Name = name;\n",
    "    }\n",
    " \n",
    "    public void MakeDinner(IMeal meal)\n",
    "    {\n",
    "        Console.WriteLine(\"Повар:\" + Name);\n",
    "        meal.Make();\n",
    "    }\n",
    "}\n",
    " \n",
    "interface IMeal\n",
    "{\n",
    "    void Make();\n",
    "}\n",
    "\n",
    "class PotatoMeal : IMeal\n",
    "{\n",
    "    public void Make()\n",
    "    {\n",
    "        Console.WriteLine(\"Чистим картошку\");\n",
    "        Console.WriteLine(\"Ставим почищенную картошку на огонь\");\n",
    "        Console.WriteLine(\"Сливаем остатки воды, разминаем варенный картофель в пюре\");\n",
    "        Console.WriteLine(\"Посыпаем пюре специями и зеленью\");\n",
    "        Console.WriteLine(\"Картофельное пюре готово\");\n",
    "    }\n",
    "}\n",
    "class SaladMeal : IMeal\n",
    "{\n",
    "    public void Make()\n",
    "    {\n",
    "        Console.WriteLine(\"Нарезаем помидоры и огурцы\");\n",
    "        Console.WriteLine(\"Посыпаем зеленью, солью и специями\");\n",
    "        Console.WriteLine(\"Поливаем подсолнечным маслом\");\n",
    "        Console.WriteLine(\"Салат готов\");\n",
    "    }\n",
    "}"
   ]
  },
  {
   "cell_type": "code",
   "execution_count": 23,
   "metadata": {
    "dotnet_interactive": {
     "language": "csharp"
    },
    "polyglot_notebook": {
     "kernelName": "csharp"
    }
   },
   "outputs": [
    {
     "name": "stdout",
     "output_type": "stream",
     "text": [
      "Повар:Bob\n",
      "Чистим картошку\n",
      "Ставим почищенную картошку на огонь\n",
      "Сливаем остатки воды, разминаем варенный картофель в пюре\n",
      "Посыпаем пюре специями и зеленью\n",
      "Картофельное пюре готово\n",
      "\n",
      "Повар:Bob\n",
      "Нарезаем помидоры и огурцы\n",
      "Посыпаем зеленью, солью и специями\n",
      "Поливаем подсолнечным маслом\n",
      "Салат готов\n"
     ]
    }
   ],
   "source": [
    "Cook bob = new Cook(\"Bob\");\n",
    "bob.MakeDinner(new PotatoMeal());\n",
    "\n",
    "Console.WriteLine();\n",
    "bob.MakeDinner(new SaladMeal());"
   ]
  },
  {
   "attachments": {},
   "cell_type": "markdown",
   "metadata": {},
   "source": [
    "#### Template Pattern (Шаблон). Использует концепцию наследования."
   ]
  },
  {
   "cell_type": "code",
   "execution_count": 1,
   "metadata": {
    "dotnet_interactive": {
     "language": "csharp"
    },
    "polyglot_notebook": {
     "kernelName": "csharp"
    }
   },
   "outputs": [],
   "source": [
    "abstract class MealBase\n",
    "{\n",
    "    public void Make()\n",
    "    {\n",
    "        Prepare();\n",
    "        Cook();\n",
    "        FinalSteps();\n",
    "    }\n",
    "    protected abstract void Prepare();\n",
    "    protected abstract void Cook();\n",
    "    protected abstract void FinalSteps();\n",
    "}\n",
    " \n",
    "class PotatoMeal : MealBase\n",
    "{\n",
    "      protected override void Prepare()\n",
    "    {\n",
    "        Console.WriteLine(\"Чистим и моем картошку\");\n",
    "    }\n",
    "\n",
    "    protected override void Cook()\n",
    "    {\n",
    "        Console.WriteLine(\"Ставим почищенную картошку на огонь\");\n",
    "        Console.WriteLine(\"Варим около 30 минут\");\n",
    "        Console.WriteLine(\"Сливаем остатки воды, разминаем варенный картофель в пюре\");\n",
    "    }\n",
    " \n",
    "    protected override void FinalSteps()\n",
    "    {\n",
    "        Console.WriteLine(\"Посыпаем пюре специями и зеленью\");\n",
    "        Console.WriteLine(\"Картофельное пюре готово\");\n",
    "    }\n",
    " \n",
    "\n",
    "}\n",
    " \n",
    "class SaladMeal : MealBase\n",
    "{\n",
    "    protected override void Prepare()\n",
    "    {\n",
    "        Console.WriteLine(\"Моем помидоры и огурцы\");\n",
    "    }\n",
    "\n",
    "    protected override void Cook()\n",
    "    {\n",
    "        Console.WriteLine(\"Нарезаем помидоры и огурцы\");\n",
    "        Console.WriteLine(\"Посыпаем зеленью, солью и специями\");\n",
    "    }\n",
    " \n",
    "    protected override void FinalSteps()\n",
    "    {\n",
    "        Console.WriteLine(\"Поливаем подсолнечным маслом\");\n",
    "        Console.WriteLine(\"Салат готов\");\n",
    "    }\n",
    "  \n",
    "}"
   ]
  },
  {
   "cell_type": "code",
   "execution_count": 2,
   "metadata": {
    "dotnet_interactive": {
     "language": "csharp"
    },
    "polyglot_notebook": {
     "kernelName": "csharp"
    }
   },
   "outputs": [],
   "source": [
    "class Cook\n",
    "{\n",
    "    public string Name { get; set; }\n",
    " \n",
    "    public Cook(string name)\n",
    "    {\n",
    "        this.Name = name;\n",
    "    }\n",
    " \n",
    "    public void MakeDinner(MealBase meal)\n",
    "    {\n",
    "        meal.Make();\n",
    "    }\n",
    "}"
   ]
  },
  {
   "cell_type": "code",
   "execution_count": 7,
   "metadata": {
    "dotnet_interactive": {
     "language": "csharp"
    },
    "polyglot_notebook": {
     "kernelName": "csharp"
    }
   },
   "outputs": [
    {
     "name": "stdout",
     "output_type": "stream",
     "text": [
      "Чистим и моем картошку\n",
      "Ставим почищенную картошку на огонь\n",
      "Варим около 30 минут\n",
      "Сливаем остатки воды, разминаем варенный картофель в пюре\n",
      "Посыпаем пюре специями и зеленью\n",
      "Картофельное пюре готово\n",
      "\n",
      "Моем помидоры и огурцы\n",
      "Нарезаем помидоры и огурцы\n",
      "Посыпаем зеленью, солью и специями\n",
      "Поливаем подсолнечным маслом\n",
      "Салат готов\n"
     ]
    }
   ],
   "source": [
    "Cook bob = new Cook(\"Bob\");\n",
    "\n",
    "MealBase pmeal = new PotatoMeal();\n",
    "bob.MakeDinner(pmeal);\n",
    "\n",
    "Console.WriteLine();\n",
    "MealBase smeal = new SaladMeal();\n",
    "bob.MakeDinner(smeal);"
   ]
  }
 ],
 "metadata": {
  "kernelspec": {
   "display_name": ".NET (C#)",
   "language": "C#",
   "name": ".net-csharp"
  },
  "language_info": {
   "name": "polyglot-notebook"
  },
  "polyglot_notebook": {
   "kernelInfo": {
    "defaultKernelName": "csharp",
    "items": [
     {
      "aliases": [],
      "languageName": "csharp",
      "name": "csharp"
     }
    ]
   }
  }
 },
 "nbformat": 4,
 "nbformat_minor": 2
}
