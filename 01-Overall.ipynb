{
 "cells": [
  {
   "attachments": {},
   "cell_type": "markdown",
   "metadata": {},
   "source": [
    "### Операции с переменными"
   ]
  },
  {
   "attachments": {},
   "cell_type": "markdown",
   "metadata": {},
   "source": [
    "\n",
    "**Не используем постфиксные и префиксные опрации вместе с операциями присваивания**"
   ]
  },
  {
   "cell_type": "code",
   "execution_count": 1,
   "metadata": {
    "dotnet_interactive": {
     "language": "csharp"
    },
    "polyglot_notebook": {
     "kernelName": "csharp"
    }
   },
   "outputs": [],
   "source": [
    "using static System.Console;"
   ]
  },
  {
   "cell_type": "code",
   "execution_count": null,
   "metadata": {
    "dotnet_interactive": {
     "language": "csharp"
    },
    "polyglot_notebook": {
     "kernelName": "csharp"
    }
   },
   "outputs": [],
   "source": [
    "int a = 1;\n",
    "int b = a++;\n",
    "b = ++a;"
   ]
  },
  {
   "cell_type": "code",
   "execution_count": null,
   "metadata": {
    "dotnet_interactive": {
     "language": "csharp"
    },
    "polyglot_notebook": {
     "kernelName": "csharp"
    }
   },
   "outputs": [],
   "source": [
    "WriteLine($\"a is {a}, b is {b}\");"
   ]
  },
  {
   "attachments": {},
   "cell_type": "markdown",
   "metadata": {},
   "source": [
    "**!!! Не используем процедуры в булевых операциях**\n",
    "\n",
    "Процедуры меняют внутренее или внешнее состояние. Функции нет."
   ]
  },
  {
   "cell_type": "code",
   "execution_count": 15,
   "metadata": {
    "dotnet_interactive": {
     "language": "csharp"
    },
    "polyglot_notebook": {
     "kernelName": "csharp"
    }
   },
   "outputs": [],
   "source": [
    "static bool DoStuff() {\n",
    "    WriteLine(\"Hello!\");\n",
    "    return true;\n",
    "}\n",
    "\n",
    "bool a = true;\n",
    "bool b = false;"
   ]
  },
  {
   "cell_type": "code",
   "execution_count": 16,
   "metadata": {
    "dotnet_interactive": {
     "language": "csharp"
    },
    "polyglot_notebook": {
     "kernelName": "csharp"
    }
   },
   "outputs": [
    {
     "name": "stdout",
     "output_type": "stream",
     "text": [
      "Hello!\r\n"
     ]
    },
    {
     "data": {
      "text/html": [
       "<div class=\"dni-plaintext\"><pre>True</pre></div><style>\r\n",
       ".dni-code-hint {\r\n",
       "    font-style: italic;\r\n",
       "    overflow: hidden;\r\n",
       "    white-space: nowrap;\r\n",
       "}\r\n",
       ".dni-treeview {\r\n",
       "    white-space: nowrap;\r\n",
       "}\r\n",
       ".dni-treeview td {\r\n",
       "    vertical-align: top;\r\n",
       "    text-align: start;\r\n",
       "}\r\n",
       "details.dni-treeview {\r\n",
       "    padding-left: 1em;\r\n",
       "}\r\n",
       "table td {\r\n",
       "    text-align: start;\r\n",
       "}\r\n",
       "table tr { \r\n",
       "    vertical-align: top; \r\n",
       "    margin: 0em 0px;\r\n",
       "}\r\n",
       "table tr td pre \r\n",
       "{ \r\n",
       "    vertical-align: top !important; \r\n",
       "    margin: 0em 0px !important;\r\n",
       "} \r\n",
       "table th {\r\n",
       "    text-align: start;\r\n",
       "}\r\n",
       "</style>"
      ]
     },
     "metadata": {},
     "output_type": "display_data"
    }
   ],
   "source": [
    "a && DoStuff()"
   ]
  },
  {
   "cell_type": "code",
   "execution_count": 17,
   "metadata": {
    "dotnet_interactive": {
     "language": "csharp"
    },
    "polyglot_notebook": {
     "kernelName": "csharp"
    }
   },
   "outputs": [
    {
     "data": {
      "text/html": [
       "<div class=\"dni-plaintext\"><pre>False</pre></div><style>\r\n",
       ".dni-code-hint {\r\n",
       "    font-style: italic;\r\n",
       "    overflow: hidden;\r\n",
       "    white-space: nowrap;\r\n",
       "}\r\n",
       ".dni-treeview {\r\n",
       "    white-space: nowrap;\r\n",
       "}\r\n",
       ".dni-treeview td {\r\n",
       "    vertical-align: top;\r\n",
       "    text-align: start;\r\n",
       "}\r\n",
       "details.dni-treeview {\r\n",
       "    padding-left: 1em;\r\n",
       "}\r\n",
       "table td {\r\n",
       "    text-align: start;\r\n",
       "}\r\n",
       "table tr { \r\n",
       "    vertical-align: top; \r\n",
       "    margin: 0em 0px;\r\n",
       "}\r\n",
       "table tr td pre \r\n",
       "{ \r\n",
       "    vertical-align: top !important; \r\n",
       "    margin: 0em 0px !important;\r\n",
       "} \r\n",
       "table th {\r\n",
       "    text-align: start;\r\n",
       "}\r\n",
       "</style>"
      ]
     },
     "metadata": {},
     "output_type": "display_data"
    }
   ],
   "source": [
    "b && DoStuff()"
   ]
  },
  {
   "attachments": {},
   "cell_type": "markdown",
   "metadata": {},
   "source": [
    "**!!! Не используем If else без {}**"
   ]
  },
  {
   "cell_type": "code",
   "execution_count": 18,
   "metadata": {
    "dotnet_interactive": {
     "language": "csharp"
    },
    "polyglot_notebook": {
     "kernelName": "csharp"
    }
   },
   "outputs": [
    {
     "name": "stdout",
     "output_type": "stream",
     "text": [
      "Your password is too short. Use at least 8 characters.\r\n"
     ]
    }
   ],
   "source": [
    "string password = \"ninja\";\n",
    "\n",
    "if (password.Length < 8)\n",
    "    WriteLine(\"Your password is too short. Use at least 8 characters.\");\n",
    "else\n",
    "   WriteLine(\"Your password is strong.\");\n",
    "   \n",
    "\n"
   ]
  },
  {
   "cell_type": "code",
   "execution_count": null,
   "metadata": {
    "dotnet_interactive": {
     "language": "csharp"
    },
    "polyglot_notebook": {
     "kernelName": "csharp"
    }
   },
   "outputs": [],
   "source": []
  },
  {
   "attachments": {},
   "cell_type": "markdown",
   "metadata": {},
   "source": [
    "**Switch**"
   ]
  },
  {
   "cell_type": "code",
   "execution_count": null,
   "metadata": {
    "dotnet_interactive": {
     "language": "csharp"
    },
    "polyglot_notebook": {
     "kernelName": "csharp"
    }
   },
   "outputs": [],
   "source": [
    "int number = Random.Shared.Next(1, 7);\n",
    "WriteLine($\"My random number is {number}\");\n",
    "switch (number)\n",
    "{\n",
    "case 1:\n",
    "    WriteLine(\"One\");\n",
    "    break; // jumps to end of switch statement\n",
    "case 2:\n",
    "    WriteLine(\"Two\");\n",
    "    goto case 1;\n",
    "case 3: // multiple case section\n",
    "case 4:\n",
    "    WriteLine(\"Three or four\");\n",
    "    goto case 1;\n",
    "case 5:\n",
    "    goto A_label;\n",
    "default:\n",
    "    WriteLine(\"Default\");\n",
    "    break;\n",
    "} // end of switch statement\n",
    "WriteLine(\"After end of switch\");\n",
    "A_label:\n",
    "WriteLine($\"After A_label\");"
   ]
  },
  {
   "cell_type": "code",
   "execution_count": 19,
   "metadata": {
    "dotnet_interactive": {
     "language": "csharp"
    },
    "polyglot_notebook": {
     "kernelName": "csharp"
    }
   },
   "outputs": [
    {
     "name": "stdout",
     "output_type": "stream",
     "text": [
      "My random number is 2\r\n"
     ]
    },
    {
     "data": {
      "text/plain": [
       "Two"
      ]
     },
     "metadata": {},
     "output_type": "display_data"
    }
   ],
   "source": [
    "int number = Random.Shared.Next(1, 7);\n",
    "WriteLine($\"My random number is {number}\");\n",
    "\n",
    "string message;\n",
    "switch (number)\n",
    "{\n",
    "    case 1:\n",
    "        message = \"One\";\n",
    "        break;\n",
    "    case 2:\n",
    "        message = \"Two\";\n",
    "        break;\n",
    "    default:\n",
    "        message =  \"Default\";\n",
    "        break;\n",
    "};\n",
    "\n",
    "message"
   ]
  },
  {
   "cell_type": "code",
   "execution_count": 20,
   "metadata": {
    "dotnet_interactive": {
     "language": "csharp"
    },
    "polyglot_notebook": {
     "kernelName": "csharp"
    }
   },
   "outputs": [
    {
     "name": "stdout",
     "output_type": "stream",
     "text": [
      "My random number is 5\r\n"
     ]
    },
    {
     "data": {
      "text/plain": [
       "Default"
      ]
     },
     "metadata": {},
     "output_type": "display_data"
    }
   ],
   "source": [
    "int number = Random.Shared.Next(1, 7);\n",
    "WriteLine($\"My random number is {number}\");\n",
    "\n",
    "string message;\n",
    "message = number switch\n",
    "{\n",
    "1 => \"One\",\n",
    "2 => \"Two\",\n",
    "_ => \"Default\"\n",
    "};\n",
    "\n",
    "message"
   ]
  },
  {
   "cell_type": "code",
   "execution_count": 3,
   "metadata": {
    "dotnet_interactive": {
     "language": "csharp"
    },
    "polyglot_notebook": {
     "kernelName": "csharp"
    }
   },
   "outputs": [
    {
     "name": "stdout",
     "output_type": "stream",
     "text": [
      "The stream is a read-only file.\r\n"
     ]
    }
   ],
   "source": [
    "using System.IO;\n",
    "\n",
    "string path = @\"D:\\\";\n",
    "Stream? s;\n",
    "\n",
    "s = File.Open(\n",
    "Path.Combine(path, \"file.txt\"),\n",
    "FileMode.OpenOrCreate,\n",
    "FileAccess.Read);\n",
    "\n",
    "\n",
    "string message = s switch\n",
    "{\n",
    "    FileStream writeableFile when s.CanWrite\n",
    "        => \"The stream is a file that I can write to.\",\n",
    "    FileStream readOnlyFile\n",
    "        => \"The stream is a read-only file.\",\n",
    "    MemoryStream ms\n",
    "        => \"The stream is a memory address.\",\n",
    "    null\n",
    "        => \"The stream is null.\",\n",
    "    _\n",
    "        => \"The stream is some other type.\"\n",
    "};\n",
    "WriteLine(message);\n",
    "\n",
    "s.Close()"
   ]
  },
  {
   "cell_type": "code",
   "execution_count": 9,
   "metadata": {
    "dotnet_interactive": {
     "language": "csharp"
    },
    "polyglot_notebook": {
     "kernelName": "csharp"
    }
   },
   "outputs": [],
   "source": [
    "using (FileStream f = File.OpenWrite(Path.Combine(path, \"file1.txt\")));"
   ]
  },
  {
   "cell_type": "code",
   "execution_count": 6,
   "metadata": {
    "dotnet_interactive": {
     "language": "csharp"
    },
    "polyglot_notebook": {
     "kernelName": "csharp"
    }
   },
   "outputs": [],
   "source": []
  },
  {
   "cell_type": "markdown",
   "metadata": {},
   "source": [
    "### Foreach использование"
   ]
  },
  {
   "cell_type": "markdown",
   "metadata": {},
   "source": [
    "### **!!! Banking Rounding**"
   ]
  },
  {
   "cell_type": "code",
   "execution_count": 10,
   "metadata": {
    "dotnet_interactive": {
     "language": "csharp"
    },
    "polyglot_notebook": {
     "kernelName": "csharp"
    }
   },
   "outputs": [],
   "source": [
    "using static System.Convert;"
   ]
  },
  {
   "cell_type": "code",
   "execution_count": 13,
   "metadata": {
    "dotnet_interactive": {
     "language": "csharp"
    },
    "polyglot_notebook": {
     "kernelName": "csharp"
    }
   },
   "outputs": [
    {
     "name": "stdout",
     "output_type": "stream",
     "text": [
      "ToInt32(9,49) is 9\n",
      "ToInt32(9,5) is 10\n",
      "ToInt32(9,51) is 10\n",
      "ToInt32(10,49) is 10\n",
      "ToInt32(10,5) is 10\n",
      "ToInt32(10,51) is 11\n"
     ]
    }
   ],
   "source": [
    "double[] doubles = new[] { 9.49, 9.5, 9.51, 10.49, 10.5, 10.51 };\n",
    "foreach (double n in doubles)\n",
    "{\n",
    "    WriteLine($\"ToInt32({n}) is {ToInt32(n)}\");\n",
    "}"
   ]
  },
  {
   "cell_type": "code",
   "execution_count": 14,
   "metadata": {
    "dotnet_interactive": {
     "language": "csharp"
    },
    "polyglot_notebook": {
     "kernelName": "csharp"
    }
   },
   "outputs": [
    {
     "name": "stdout",
     "output_type": "stream",
     "text": [
      "Math.Round(9,49, 0, MidpointRounding.AwayFromZero) is 9\n",
      "Math.Round(9,5, 0, MidpointRounding.AwayFromZero) is 10\n",
      "Math.Round(9,51, 0, MidpointRounding.AwayFromZero) is 10\n",
      "Math.Round(10,49, 0, MidpointRounding.AwayFromZero) is 10\n",
      "Math.Round(10,5, 0, MidpointRounding.AwayFromZero) is 11\n",
      "Math.Round(10,51, 0, MidpointRounding.AwayFromZero) is 11\n"
     ]
    }
   ],
   "source": [
    "foreach (double n in doubles)\n",
    "{\n",
    "    WriteLine(format:\n",
    "        \"Math.Round({0}, 0, MidpointRounding.AwayFromZero) is {1}\",\n",
    "        arg0: n,\n",
    "        arg1: Math.Round(value: n, digits: 0,\n",
    "        mode: MidpointRounding.AwayFromZero));\n",
    "}"
   ]
  },
  {
   "cell_type": "code",
   "execution_count": 1,
   "metadata": {
    "dotnet_interactive": {
     "language": "csharp"
    },
    "polyglot_notebook": {
     "kernelName": "csharp"
    }
   },
   "outputs": [
    {
     "name": "stdout",
     "output_type": "stream",
     "text": [
      "Hello\r\n"
     ]
    }
   ],
   "source": [
    "Console.WriteLine(\"Hello\");"
   ]
  },
  {
   "cell_type": "code",
   "execution_count": 16,
   "metadata": {
    "dotnet_interactive": {
     "language": "csharp"
    },
    "polyglot_notebook": {
     "kernelName": "csharp"
    }
   },
   "outputs": [
    {
     "name": "stdout",
     "output_type": "stream",
     "text": [
      "10\n",
      "11\n",
      "12\n",
      "13\n",
      "14\n",
      "15\n",
      "16\n",
      "17\n",
      "18\n",
      "19\n",
      "20\n"
     ]
    }
   ],
   "source": [
    "\n",
    "void CountBetween(int start, int end)\n",
    "{\n",
    "    for (int current = start; current <= end; current++)\n",
    "        Console.WriteLine(current);\n",
    "}\n",
    "\n",
    "\n",
    "CountBetween(10,20);"
   ]
  }
 ],
 "metadata": {
  "kernelspec": {
   "display_name": ".NET (C#)",
   "language": "C#",
   "name": ".net-csharp"
  },
  "language_info": {
   "name": "polyglot-notebook"
  },
  "polyglot_notebook": {
   "kernelInfo": {
    "defaultKernelName": "csharp",
    "items": [
     {
      "aliases": [],
      "languageName": "csharp",
      "name": "csharp"
     }
    ]
   }
  }
 },
 "nbformat": 4,
 "nbformat_minor": 2
}
