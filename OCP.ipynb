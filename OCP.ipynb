{
 "cells": [
  {
   "attachments": {},
   "cell_type": "markdown",
   "metadata": {},
   "source": [
    "### **OCP. Open-Close Principle. Принцип закрытости/открытости**"
   ]
  },
  {
   "attachments": {},
   "cell_type": "markdown",
   "metadata": {},
   "source": [
    "##### **Employee Example**"
   ]
  },
  {
   "cell_type": "code",
   "execution_count": 1,
   "metadata": {
    "dotnet_interactive": {
     "language": "csharp"
    },
    "polyglot_notebook": {
     "kernelName": "csharp"
    }
   },
   "outputs": [
    {
     "data": {
      "text/html": [
       "<details open=\"open\" class=\"dni-treeview\"><summary><span class=\"dni-code-hint\"><code>Submission#2+Employee</code></span></summary><div><table><thead><tr></tr></thead><tbody><tr><td>Name</td><td>Сергей</td></tr><tr><td>ID</td><td><div class=\"dni-plaintext\"><pre>0</pre></div></td></tr></tbody></table></div></details><style>\r\n",
       ".dni-code-hint {\r\n",
       "    font-style: italic;\r\n",
       "    overflow: hidden;\r\n",
       "    white-space: nowrap;\r\n",
       "}\r\n",
       ".dni-treeview {\r\n",
       "    white-space: nowrap;\r\n",
       "}\r\n",
       ".dni-treeview td {\r\n",
       "    vertical-align: top;\r\n",
       "    text-align: start;\r\n",
       "}\r\n",
       "details.dni-treeview {\r\n",
       "    padding-left: 1em;\r\n",
       "}\r\n",
       "table td {\r\n",
       "    text-align: start;\r\n",
       "}\r\n",
       "table tr { \r\n",
       "    vertical-align: top; \r\n",
       "    margin: 0em 0px;\r\n",
       "}\r\n",
       "table tr td pre \r\n",
       "{ \r\n",
       "    vertical-align: top !important; \r\n",
       "    margin: 0em 0px !important;\r\n",
       "} \r\n",
       "table th {\r\n",
       "    text-align: start;\r\n",
       "}\r\n",
       "</style>"
      ]
     },
     "metadata": {},
     "output_type": "display_data"
    }
   ],
   "source": [
    "public class Employee\n",
    "    {\n",
    "        public string Name { get; set; }\n",
    "        public int ID { get; set; }\n",
    "       \n",
    "\n",
    "        public Employee( string name) {\n",
    "            this.Name = name;\n",
    "        }\n",
    "        /// Данный метод добавляет в БД нового сотрудника\n",
    "        \n",
    "        public bool Add(Employee emp)\n",
    "        {\n",
    "            // Вставить данные сотрудника в таблицу БД\n",
    "            return true;\n",
    "        }\n",
    "    }\n",
    "\n",
    "Employee emp = new Employee(\"Сергей\");\n",
    "emp"
   ]
  },
  {
   "attachments": {},
   "cell_type": "markdown",
   "metadata": {},
   "source": [
    "Проблема: Если мы захотим внести новый тип отчета (например, для выгрузки в Excel), нам понадобится добавить новое условие if.\n",
    "\n",
    "Но согласно принципу OCP, наш класс должен быть закрыт от модификаций и открыт для расширений."
   ]
  },
  {
   "cell_type": "code",
   "execution_count": 2,
   "metadata": {
    "dotnet_interactive": {
     "language": "csharp"
    },
    "polyglot_notebook": {
     "kernelName": "csharp"
    }
   },
   "outputs": [],
   "source": [
    "\n",
    "public class EmployeeReport\n",
    "{\n",
    "    \n",
    "    /// Тип отчета\n",
    "    \n",
    "    public string TypeReport { get; set; }\n",
    "\n",
    "    \n",
    "    /// Отчет по сотруднику\n",
    "    \n",
    "    public void GenerateReport(Employee em)\n",
    "    {\n",
    "        if (TypeReport == \"CSV\")\n",
    "        {\n",
    "            Console.WriteLine(\"Отчет в формате CSV\");\n",
    "            // Генерация отчета в формате CSV\n",
    "        }\n",
    "\n",
    "        if (TypeReport == \"PDF\")\n",
    "        {\n",
    "            Console.WriteLine(\"Отчет в формате PDF\");\n",
    "            // Генерация отчета в формате PDF\n",
    "        }\n",
    "    }\n",
    "}"
   ]
  },
  {
   "cell_type": "code",
   "execution_count": 4,
   "metadata": {
    "dotnet_interactive": {
     "language": "csharp"
    },
    "polyglot_notebook": {
     "kernelName": "csharp"
    }
   },
   "outputs": [
    {
     "name": "stdout",
     "output_type": "stream",
     "text": [
      "Отчет в формате CSV\r\n"
     ]
    }
   ],
   "source": [
    "Employee x = new Employee(\"Василий\");\n",
    "EmployeeReport r = new EmployeeReport();\n",
    "r. TypeReport = \"CSV\";\n",
    "r.GenerateReport(x);\n"
   ]
  },
  {
   "cell_type": "code",
   "execution_count": 5,
   "metadata": {
    "dotnet_interactive": {
     "language": "csharp"
    },
    "polyglot_notebook": {
     "kernelName": "csharp"
    }
   },
   "outputs": [],
   "source": [
    "public class IEmployeeReport\n",
    "{\n",
    "    \n",
    "    /// Метод для создания отчета\n",
    "    \n",
    "    public virtual void GenerateReport(Employee em)\n",
    "    {\n",
    "        // Базовая реализация, которую нельзя модифицировать\n",
    "        \n",
    "    }\n",
    "}\n",
    "\n",
    "public class EmployeeCSVReport : IEmployeeReport\n",
    "{\n",
    "    public override void GenerateReport(Employee em)\n",
    "    {\n",
    "        // Генерация отчета в формате CSV\n",
    "    }\n",
    "}\n",
    "\n",
    "public class EmployeePDFReport : IEmployeeReport\n",
    "{\n",
    "    public override void GenerateReport(Employee em)\n",
    "    {\n",
    "        // Генерация отчета в формате PDF\n",
    "    }\n",
    "}"
   ]
  },
  {
   "attachments": {},
   "cell_type": "markdown",
   "metadata": {},
   "source": [
    "Ниже показано, как это можно сделать:"
   ]
  }
 ],
 "metadata": {
  "kernelspec": {
   "display_name": ".NET (C#)",
   "language": "C#",
   "name": ".net-csharp"
  },
  "language_info": {
   "name": "polyglot-notebook"
  },
  "polyglot_notebook": {
   "kernelInfo": {
    "defaultKernelName": "csharp",
    "items": [
     {
      "aliases": [],
      "languageName": "csharp",
      "name": "csharp"
     }
    ]
   }
  }
 },
 "nbformat": 4,
 "nbformat_minor": 2
}
