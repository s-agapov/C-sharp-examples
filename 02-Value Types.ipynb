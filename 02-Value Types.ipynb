{
 "cells": [
  {
   "attachments": {},
   "cell_type": "markdown",
   "metadata": {},
   "source": [
    "### Enum, Перечисления"
   ]
  },
  {
   "cell_type": "code",
   "execution_count": 65,
   "metadata": {
    "dotnet_interactive": {
     "language": "csharp"
    },
    "polyglot_notebook": {
     "kernelName": "csharp"
    }
   },
   "outputs": [
    {
     "data": {
      "text/html": [
       "<span>Winter</span>"
      ]
     },
     "metadata": {},
     "output_type": "display_data"
    }
   ],
   "source": [
    "enum Season { Winter,Spring, Summer, Fall }\n",
    "\n",
    "Season now = Season.Winter;\n",
    "now\n"
   ]
  },
  {
   "attachments": {},
   "cell_type": "markdown",
   "metadata": {},
   "source": [
    "Удобная альтернатива int и string"
   ]
  },
  {
   "cell_type": "code",
   "execution_count": 66,
   "metadata": {
    "dotnet_interactive": {
     "language": "csharp"
    },
    "polyglot_notebook": {
     "kernelName": "csharp"
    }
   },
   "outputs": [],
   "source": [
    "int current = 2; // Summer\n",
    "if (current == 4) Console.WriteLine(\"Winter is coming.\");"
   ]
  },
  {
   "cell_type": "code",
   "execution_count": 67,
   "metadata": {
    "dotnet_interactive": {
     "language": "csharp"
    },
    "polyglot_notebook": {
     "kernelName": "csharp"
    }
   },
   "outputs": [],
   "source": [
    "string current = \"Summer\";\n",
    "\n",
    "if (current == \"Fall\") Console.WriteLine(\"Winter is coming.\");"
   ]
  },
  {
   "cell_type": "code",
   "execution_count": 68,
   "metadata": {
    "dotnet_interactive": {
     "language": "csharp"
    },
    "polyglot_notebook": {
     "kernelName": "csharp"
    }
   },
   "outputs": [],
   "source": [
    "enum Season : byte { Winter, Spring, Summer, Fall}"
   ]
  },
  {
   "cell_type": "code",
   "execution_count": 70,
   "metadata": {
    "dotnet_interactive": {
     "language": "csharp"
    },
    "polyglot_notebook": {
     "kernelName": "csharp"
    }
   },
   "outputs": [],
   "source": [
    "enum Season { Winter = 3, Spring = 6, Summer = 9, Fall = 12 }"
   ]
  },
  {
   "cell_type": "code",
   "execution_count": 71,
   "metadata": {
    "dotnet_interactive": {
     "language": "csharp"
    },
    "polyglot_notebook": {
     "kernelName": "csharp"
    }
   },
   "outputs": [
    {
     "name": "stdout",
     "output_type": "stream",
     "text": [
      "12\r\n"
     ]
    },
    {
     "data": {
      "text/html": [
       "<span>Spring</span>"
      ]
     },
     "metadata": {},
     "output_type": "display_data"
    }
   ],
   "source": [
    "int number = (int)Season.Fall;\n",
    "Season now = (Season)6;\n",
    "Console.WriteLine(number);\n",
    "now"
   ]
  },
  {
   "cell_type": "code",
   "execution_count": 73,
   "metadata": {
    "dotnet_interactive": {
     "language": "csharp"
    },
    "polyglot_notebook": {
     "kernelName": "csharp"
    }
   },
   "outputs": [
    {
     "name": "stdout",
     "output_type": "stream",
     "text": [
      "Winter      10\n",
      "Spring      11\n",
      "Summer      12\n",
      "Fall        13\n"
     ]
    }
   ],
   "source": [
    "enum Season { Winter = 10, Spring, Summer, Fall}\n",
    "\n",
    "foreach (var season in Enum.GetValues(typeof(Season))) {\n",
    "\n",
    "    Console.WriteLine($\"{season, -10}  {(int)season}\");\n",
    "}\n",
    "\n"
   ]
  },
  {
   "cell_type": "code",
   "execution_count": 74,
   "metadata": {
    "dotnet_interactive": {
     "language": "csharp"
    },
    "polyglot_notebook": {
     "kernelName": "csharp"
    }
   },
   "outputs": [],
   "source": [
    "Season another = (Season)822; // Not a valid season!"
   ]
  },
  {
   "cell_type": "code",
   "execution_count": 75,
   "metadata": {
    "dotnet_interactive": {
     "language": "csharp"
    },
    "polyglot_notebook": {
     "kernelName": "csharp"
    }
   },
   "outputs": [
    {
     "data": {
      "text/html": [
       "<span>822</span>"
      ]
     },
     "metadata": {},
     "output_type": "display_data"
    }
   ],
   "source": [
    "another"
   ]
  },
  {
   "cell_type": "code",
   "execution_count": 39,
   "metadata": {
    "dotnet_interactive": {
     "language": "csharp"
    },
    "polyglot_notebook": {
     "kernelName": "csharp"
    }
   },
   "outputs": [
    {
     "data": {
      "text/html": [
       "<div class=\"dni-plaintext\"><pre>Infinity</pre></div><style>\r\n",
       ".dni-code-hint {\r\n",
       "    font-style: italic;\r\n",
       "    overflow: hidden;\r\n",
       "    white-space: nowrap;\r\n",
       "}\r\n",
       ".dni-treeview {\r\n",
       "    white-space: nowrap;\r\n",
       "}\r\n",
       ".dni-treeview td {\r\n",
       "    vertical-align: top;\r\n",
       "    text-align: start;\r\n",
       "}\r\n",
       "details.dni-treeview {\r\n",
       "    padding-left: 1em;\r\n",
       "}\r\n",
       "table td {\r\n",
       "    text-align: start;\r\n",
       "}\r\n",
       "table tr { \r\n",
       "    vertical-align: top; \r\n",
       "    margin: 0em 0px;\r\n",
       "}\r\n",
       "table tr td pre \r\n",
       "{ \r\n",
       "    vertical-align: top !important; \r\n",
       "    margin: 0em 0px !important;\r\n",
       "} \r\n",
       "table th {\r\n",
       "    text-align: start;\r\n",
       "}\r\n",
       "</style>"
      ]
     },
     "metadata": {},
     "output_type": "display_data"
    }
   ],
   "source": [
    "int x = 1;\n",
    "double y = 10.0;\n",
    "y/0"
   ]
  },
  {
   "attachments": {},
   "cell_type": "markdown",
   "metadata": {},
   "source": [
    "### Tuples Кортежи"
   ]
  },
  {
   "attachments": {},
   "cell_type": "markdown",
   "metadata": {},
   "source": [
    "Простейшее средство агрегирования и структурирования разнородных данных"
   ]
  },
  {
   "cell_type": "code",
   "execution_count": 76,
   "metadata": {
    "dotnet_interactive": {
     "language": "csharp"
    },
    "polyglot_notebook": {
     "kernelName": "csharp"
    }
   },
   "outputs": [],
   "source": [
    "string[] names = new string[3] { \"R2-D2\", \"C-3PO\", \"GONK\" };\n",
    "int[] points = new int[3] { 12420, 8543, -1 };\n",
    "int[] level = new int[3] { 15, 9, 1 };"
   ]
  },
  {
   "cell_type": "code",
   "execution_count": 77,
   "metadata": {
    "dotnet_interactive": {
     "language": "csharp"
    },
    "polyglot_notebook": {
     "kernelName": "csharp"
    }
   },
   "outputs": [
    {
     "name": "stdout",
     "output_type": "stream",
     "text": [
      "Name:R2-D2 Level:15 Score:12420\r\n"
     ]
    }
   ],
   "source": [
    "var score = (\"R2-D2\", 12420, 15);\n",
    "\n",
    "Console.WriteLine($\"Name:{score.Item1} Level:{score.Item3} Score:{score.Item2}\");"
   ]
  },
  {
   "cell_type": "code",
   "execution_count": 78,
   "metadata": {
    "dotnet_interactive": {
     "language": "csharp"
    },
    "polyglot_notebook": {
     "kernelName": "csharp"
    }
   },
   "outputs": [
    {
     "name": "stdout",
     "output_type": "stream",
     "text": [
      "Name:R2-D2 Level:15 Score:12420\r\n"
     ]
    }
   ],
   "source": [
    "(string Name, int Points, int Level) score = (\"R2-D2\", 12420, 15);\n",
    "Console.WriteLine($\"Name:{score.Name} Level:{score.Level} Score:{score.Points}\");"
   ]
  },
  {
   "cell_type": "code",
   "execution_count": 79,
   "metadata": {
    "dotnet_interactive": {
     "language": "csharp"
    },
    "polyglot_notebook": {
     "kernelName": "csharp"
    }
   },
   "outputs": [
    {
     "name": "stdout",
     "output_type": "stream",
     "text": [
      "Name:R2-D2 Level:15 Score:12420\r\n"
     ]
    }
   ],
   "source": [
    "var score = (Name: \"R2-D2\", Points: 12420, Level: 15);\n",
    "Console.WriteLine($\"Name:{score.Name} Level:{score.Level} Score:{score.Points}\");"
   ]
  },
  {
   "attachments": {},
   "cell_type": "markdown",
   "metadata": {},
   "source": [
    "Деконструкция"
   ]
  },
  {
   "cell_type": "code",
   "execution_count": 80,
   "metadata": {
    "dotnet_interactive": {
     "language": "csharp"
    },
    "polyglot_notebook": {
     "kernelName": "csharp"
    }
   },
   "outputs": [
    {
     "name": "stdout",
     "output_type": "stream",
     "text": [
      "R2-D2 reached level 15 with 12420 points.\r\n"
     ]
    }
   ],
   "source": [
    "string name;\n",
    "int points;\n",
    "int level;\n",
    "(name, points, level) = score;\n",
    "Console.WriteLine($\"{name} reached level {level} with {points} points.\");"
   ]
  },
  {
   "cell_type": "code",
   "execution_count": 81,
   "metadata": {
    "dotnet_interactive": {
     "language": "csharp"
    },
    "polyglot_notebook": {
     "kernelName": "csharp"
    }
   },
   "outputs": [],
   "source": [
    "(string name, int points, _) = score;"
   ]
  },
  {
   "cell_type": "code",
   "execution_count": null,
   "metadata": {
    "dotnet_interactive": {
     "language": "csharp"
    },
    "polyglot_notebook": {
     "kernelName": "csharp"
    }
   },
   "outputs": [],
   "source": []
  },
  {
   "attachments": {},
   "cell_type": "markdown",
   "metadata": {},
   "source": [
    "Возврат из функции"
   ]
  },
  {
   "cell_type": "code",
   "execution_count": 82,
   "metadata": {
    "dotnet_interactive": {
     "language": "csharp"
    },
    "polyglot_notebook": {
     "kernelName": "csharp"
    }
   },
   "outputs": [
    {
     "data": {
      "text/html": [
       "<table><thead><tr><th><i>index</i></th><th>value</th></tr></thead><tbody><tr><td>0</td><td><details class=\"dni-treeview\"><summary><span class=\"dni-code-hint\"><code>(R2-D2, 12420, 15)</code></span></summary><div><table><thead><tr></tr></thead><tbody><tr><td>Item1</td><td>R2-D2</td></tr><tr><td>Item2</td><td><div class=\"dni-plaintext\"><pre>12420</pre></div></td></tr><tr><td>Item3</td><td><div class=\"dni-plaintext\"><pre>15</pre></div></td></tr></tbody></table></div></details></td></tr><tr><td>1</td><td><details class=\"dni-treeview\"><summary><span class=\"dni-code-hint\"><code>(C-3PO, 8543, 9)</code></span></summary><div><table><thead><tr></tr></thead><tbody><tr><td>Item1</td><td>C-3PO</td></tr><tr><td>Item2</td><td><div class=\"dni-plaintext\"><pre>8543</pre></div></td></tr><tr><td>Item3</td><td><div class=\"dni-plaintext\"><pre>9</pre></div></td></tr></tbody></table></div></details></td></tr><tr><td>2</td><td><details class=\"dni-treeview\"><summary><span class=\"dni-code-hint\"><code>(GONK, -1, 1)</code></span></summary><div><table><thead><tr></tr></thead><tbody><tr><td>Item1</td><td>GONK</td></tr><tr><td>Item2</td><td><div class=\"dni-plaintext\"><pre>-1</pre></div></td></tr><tr><td>Item3</td><td><div class=\"dni-plaintext\"><pre>1</pre></div></td></tr></tbody></table></div></details></td></tr></tbody></table><style>\r\n",
       ".dni-code-hint {\r\n",
       "    font-style: italic;\r\n",
       "    overflow: hidden;\r\n",
       "    white-space: nowrap;\r\n",
       "}\r\n",
       ".dni-treeview {\r\n",
       "    white-space: nowrap;\r\n",
       "}\r\n",
       ".dni-treeview td {\r\n",
       "    vertical-align: top;\r\n",
       "    text-align: start;\r\n",
       "}\r\n",
       "details.dni-treeview {\r\n",
       "    padding-left: 1em;\r\n",
       "}\r\n",
       "table td {\r\n",
       "    text-align: start;\r\n",
       "}\r\n",
       "table tr { \r\n",
       "    vertical-align: top; \r\n",
       "    margin: 0em 0px;\r\n",
       "}\r\n",
       "table tr td pre \r\n",
       "{ \r\n",
       "    vertical-align: top !important; \r\n",
       "    margin: 0em 0px !important;\r\n",
       "} \r\n",
       "table th {\r\n",
       "    text-align: start;\r\n",
       "}\r\n",
       "</style>"
      ]
     },
     "metadata": {},
     "output_type": "display_data"
    }
   ],
   "source": [
    "(string Name, int Points, int Level)[] CreateHighScores()\n",
    "{\n",
    "    return new (string, int, int)[3]\n",
    "    {\n",
    "        (\"R2-D2\", 12420, 15),\n",
    "        (\"C-3PO\", 8543, 9),\n",
    "        (\"GONK\", -1, 1),\n",
    "    };\n",
    "}\n",
    "\n",
    "CreateHighScores()"
   ]
  },
  {
   "attachments": {},
   "cell_type": "markdown",
   "metadata": {},
   "source": [
    "Сравнение"
   ]
  },
  {
   "cell_type": "code",
   "execution_count": 83,
   "metadata": {
    "dotnet_interactive": {
     "language": "csharp"
    },
    "polyglot_notebook": {
     "kernelName": "csharp"
    }
   },
   "outputs": [
    {
     "name": "stdout",
     "output_type": "stream",
     "text": [
      "True\r\n"
     ]
    }
   ],
   "source": [
    "var a = (X: 2, Y: 4);\n",
    "var b = (U: 2, V: 4);\n",
    "Console.WriteLine(a == b);"
   ]
  },
  {
   "cell_type": "code",
   "execution_count": 84,
   "metadata": {
    "dotnet_interactive": {
     "language": "csharp"
    },
    "polyglot_notebook": {
     "kernelName": "csharp"
    }
   },
   "outputs": [],
   "source": [
    "string first;\n",
    "string second;\n",
    "string s = (first, second) switch\n",
    "    {\n",
    "        (\"rock\", \"paper\") => \"Paper wins.\",\n",
    "        (\"rock\", \"scissors\") => \"Rock wins.\",\n",
    "        (\"paper\", \"rock\") => \"Paper wins.\",\n",
    "        (\"paper\", \"scissors\") => \"Scissors wins.\",\n",
    "        (\"scissors\", \"rock\") => \"Rock wins.\",\n",
    "        (\"scissors\", \"paper\") => \"Scissors wins.\",\n",
    "        (_, _) => \"Tie.\",\n",
    "    };"
   ]
  },
  {
   "cell_type": "code",
   "execution_count": 17,
   "metadata": {
    "dotnet_interactive": {
     "language": "csharp"
    },
    "polyglot_notebook": {
     "kernelName": "csharp"
    }
   },
   "outputs": [],
   "source": [
    "static string RockPaperScissors(string first, string second)\n",
    "{\n",
    "return (first, second) switch\n",
    "    {\n",
    "        (\"rock\", \"paper\") => \"Paper wins.\",\n",
    "        (\"rock\", \"scissors\") => \"Rock wins.\",\n",
    "        (\"paper\", \"rock\") => \"Paper wins.\",\n",
    "        (\"paper\", \"scissors\") => \"Scissors wins.\",\n",
    "        (\"scissors\", \"rock\") => \"Rock wins.\",\n",
    "        (\"scissors\", \"paper\") => \"Scissors wins.\",\n",
    "        (_, _) => \"Tie.\",\n",
    "    };\n",
    "}\n"
   ]
  },
  {
   "cell_type": "code",
   "execution_count": 85,
   "metadata": {
    "dotnet_interactive": {
     "language": "csharp"
    },
    "polyglot_notebook": {
     "kernelName": "csharp"
    }
   },
   "outputs": [],
   "source": [
    "struct Point1\n",
    "{\n",
    "// Fields of the structure.\n",
    "    public int X;\n",
    "    public int Y;\n",
    "    // A custom constructor.\n",
    "    public Point1(int XPos, int YPos)\n",
    "    {\n",
    "        X = XPos;\n",
    "        Y = YPos;\n",
    "    }\n",
    "    public (int XPos, int YPos) Deconstruct() => (X, Y);\n",
    "}"
   ]
  },
  {
   "cell_type": "code",
   "execution_count": 86,
   "metadata": {
    "dotnet_interactive": {
     "language": "csharp"
    },
    "polyglot_notebook": {
     "kernelName": "csharp"
    }
   },
   "outputs": [
    {
     "name": "stdout",
     "output_type": "stream",
     "text": [
      "X is: 7\n",
      "Y is: 5\n"
     ]
    }
   ],
   "source": [
    "Point1 p1 = new(7,5);\n",
    "var pointValues = p.Deconstruct();\n",
    "Console.WriteLine($\"X is: {pointValues.XPos}\");\n",
    "Console.WriteLine($\"Y is: {pointValues.YPos}\");"
   ]
  },
  {
   "cell_type": "code",
   "execution_count": 58,
   "metadata": {
    "dotnet_interactive": {
     "language": "csharp"
    },
    "polyglot_notebook": {
     "kernelName": "csharp"
    }
   },
   "outputs": [
    {
     "data": {
      "text/plain": [
       "One"
      ]
     },
     "metadata": {},
     "output_type": "display_data"
    }
   ],
   "source": [
    "static string GetQuadrant1(Point1 p)\n",
    "{\n",
    "    return p.Deconstruct() switch\n",
    "{\n",
    "    (0, 0) => \"Origin\",\n",
    "    var (x, y) when x > 0 && y > 0 => \"One\",\n",
    "    var (x, y) when x < 0 && y > 0 => \"Two\",\n",
    "    var (x, y) when x < 0 && y < 0 => \"Three\",\n",
    "    var (x, y) when x > 0 && y < 0 => \"Four\",\n",
    "    var (_, _) => \"Border\",\n",
    "    };\n",
    "}\n",
    "\n",
    "GetQuadrant1(p1)"
   ]
  },
  {
   "cell_type": "code",
   "execution_count": 60,
   "metadata": {
    "dotnet_interactive": {
     "language": "csharp"
    },
    "polyglot_notebook": {
     "kernelName": "csharp"
    }
   },
   "outputs": [],
   "source": [
    "struct Point2\n",
    "{\n",
    "// Fields of the structure.\n",
    "    public int X;\n",
    "    public int Y;\n",
    "    // A custom constructor.\n",
    "    public Point2(int XPos, int YPos)\n",
    "    {\n",
    "        X = XPos;\n",
    "        Y = YPos;\n",
    "    }\n",
    "    public (int XPos, int YPos) Deconstruct() => (X, Y);\n",
    "    public void Deconstruct(out int XPos, out int YPos) => (XPos,YPos)=(X, Y);\n",
    "}"
   ]
  },
  {
   "cell_type": "code",
   "execution_count": 87,
   "metadata": {
    "dotnet_interactive": {
     "language": "csharp"
    },
    "polyglot_notebook": {
     "kernelName": "csharp"
    }
   },
   "outputs": [
    {
     "name": "stdout",
     "output_type": "stream",
     "text": [
      "XP2 is: 8\n",
      "YP2 is: 3\n"
     ]
    }
   ],
   "source": [
    "Point p2 = new Point(8,3);\n",
    "int xp2 = 0;\n",
    "int yp2 = 0;\n",
    "(xp2,yp2) = p2;\n",
    "Console.WriteLine($\"XP2 is: {xp2}\");\n",
    "Console.WriteLine($\"YP2 is: {yp2}\");"
   ]
  },
  {
   "cell_type": "code",
   "execution_count": 88,
   "metadata": {
    "dotnet_interactive": {
     "language": "csharp"
    },
    "polyglot_notebook": {
     "kernelName": "csharp"
    }
   },
   "outputs": [
    {
     "data": {
      "text/plain": [
       "One"
      ]
     },
     "metadata": {},
     "output_type": "display_data"
    }
   ],
   "source": [
    "static string GetQuadrant2(Point p)\n",
    "{\n",
    "return p switch\n",
    "    {\n",
    "        (0, 0) => \"Origin\", \n",
    "        var (x, y) when x > 0 && y > 0 => \"One\",\n",
    "        var (x, y) when x < 0 && y > 0 => \"Two\",\n",
    "        var (x, y) when x < 0 && y < 0 => \"Three\",\n",
    "        var (x, y) when x > 0 && y < 0 => \"Four\",\n",
    "        var (_, _) => \"Border\",\n",
    "    };\n",
    "}\n",
    "\n",
    "GetQuadrant2(p2)"
   ]
  },
  {
   "attachments": {},
   "cell_type": "markdown",
   "metadata": {},
   "source": [
    "### Structs"
   ]
  },
  {
   "cell_type": "code",
   "execution_count": 1,
   "metadata": {
    "dotnet_interactive": {
     "language": "csharp"
    },
    "polyglot_notebook": {
     "kernelName": "csharp"
    }
   },
   "outputs": [],
   "source": [
    "public struct PairOfInts\n",
    "{\n",
    "    public int A; // These are public fields, which are usually best to avoid.\n",
    "    public int B;\n",
    "}"
   ]
  },
  {
   "attachments": {},
   "cell_type": "markdown",
   "metadata": {},
   "source": [
    "Не обязательно вызывать конструктор"
   ]
  },
  {
   "cell_type": "code",
   "execution_count": 2,
   "metadata": {
    "dotnet_interactive": {
     "language": "csharp"
    },
    "polyglot_notebook": {
     "kernelName": "csharp"
    }
   },
   "outputs": [
    {
     "name": "stdout",
     "output_type": "stream",
     "text": [
      "2\r\n"
     ]
    }
   ],
   "source": [
    "PairOfInts pair;\n",
    "pair.A = 2;\n",
    "Console.WriteLine(pair.A);"
   ]
  },
  {
   "cell_type": "code",
   "execution_count": 4,
   "metadata": {
    "dotnet_interactive": {
     "language": "csharp"
    },
    "polyglot_notebook": {
     "kernelName": "csharp"
    }
   },
   "outputs": [],
   "source": [
    "public struct PairOfPairs\n",
    "{\n",
    "    public PairOfInts _one;\n",
    "    public PairOfInts _two;\n",
    "\n",
    "    public void Display()\n",
    "    {\n",
    "        Console.WriteLine($\"{_one.A} {_one.B} and {_two.A} {_two.B}\");\n",
    "    }\n",
    "}"
   ]
  },
  {
   "cell_type": "code",
   "execution_count": 5,
   "metadata": {
    "dotnet_interactive": {
     "language": "csharp"
    },
    "polyglot_notebook": {
     "kernelName": "csharp"
    }
   },
   "outputs": [
    {
     "name": "stdout",
     "output_type": "stream",
     "text": [
      "0 0 and 0 0\r\n"
     ]
    }
   ],
   "source": [
    "PairOfPairs p;\n",
    "\n",
    "p.Display()"
   ]
  },
  {
   "attachments": {},
   "cell_type": "markdown",
   "metadata": {},
   "source": [
    "### Classes vs. structs"
   ]
  },
  {
   "attachments": {},
   "cell_type": "markdown",
   "metadata": {},
   "source": [
    "\n",
    "Small, Immutable, Default values means\n"
   ]
  },
  {
   "cell_type": "code",
   "execution_count": 7,
   "metadata": {
    "dotnet_interactive": {
     "language": "csharp"
    },
    "polyglot_notebook": {
     "kernelName": "csharp"
    }
   },
   "outputs": [],
   "source": [
    "readonly public struct CircleStruct\n",
    "{\n",
    "    public double X { get; }\n",
    "    public double Y { get; }\n",
    "    public double Radius { get; }\n",
    "    public CircleStruct(double x, double y, double radius)\n",
    "    {\n",
    "        X = x; Y = y; Radius = radius;\n",
    "    }\n",
    "\n",
    "    public double Circumference() {\n",
    "        return Math.PI * Radius*2;\n",
    "    }\n",
    "}"
   ]
  },
  {
   "cell_type": "code",
   "execution_count": 8,
   "metadata": {
    "dotnet_interactive": {
     "language": "csharp"
    },
    "polyglot_notebook": {
     "kernelName": "csharp"
    }
   },
   "outputs": [
    {
     "data": {
      "text/html": [
       "<div class=\"dni-plaintext\"><pre>25.132741228718345</pre></div><style>\r\n",
       ".dni-code-hint {\r\n",
       "    font-style: italic;\r\n",
       "    overflow: hidden;\r\n",
       "    white-space: nowrap;\r\n",
       "}\r\n",
       ".dni-treeview {\r\n",
       "    white-space: nowrap;\r\n",
       "}\r\n",
       ".dni-treeview td {\r\n",
       "    vertical-align: top;\r\n",
       "    text-align: start;\r\n",
       "}\r\n",
       "details.dni-treeview {\r\n",
       "    padding-left: 1em;\r\n",
       "}\r\n",
       "table td {\r\n",
       "    text-align: start;\r\n",
       "}\r\n",
       "table tr { \r\n",
       "    vertical-align: top; \r\n",
       "    margin: 0em 0px;\r\n",
       "}\r\n",
       "table tr td pre \r\n",
       "{ \r\n",
       "    vertical-align: top !important; \r\n",
       "    margin: 0em 0px !important;\r\n",
       "} \r\n",
       "table th {\r\n",
       "    text-align: start;\r\n",
       "}\r\n",
       "</style>"
      ]
     },
     "metadata": {},
     "output_type": "display_data"
    }
   ],
   "source": [
    "CircleStruct c = new(1,1,4);\n",
    "\n",
    "c.Circumference()"
   ]
  },
  {
   "cell_type": "code",
   "execution_count": 9,
   "metadata": {
    "dotnet_interactive": {
     "language": "csharp"
    },
    "polyglot_notebook": {
     "kernelName": "csharp"
    }
   },
   "outputs": [],
   "source": [
    "struct Point\n",
    "{\n",
    "    public int X = 1;\n",
    "    public int Y = 1;\n",
    "//Parameterless constructor\n",
    "    public Point()\n",
    "    {\n",
    "        X = 1;\n",
    "        Y = 1;\n",
    "    }\n",
    "\n",
    "}\n",
    "\n"
   ]
  },
  {
   "cell_type": "code",
   "execution_count": 10,
   "metadata": {
    "dotnet_interactive": {
     "language": "csharp"
    },
    "polyglot_notebook": {
     "kernelName": "csharp"
    }
   },
   "outputs": [
    {
     "data": {
      "text/html": [
       "<details open=\"open\" class=\"dni-treeview\"><summary><span class=\"dni-code-hint\"><code>Submission#10+Point</code></span></summary><div><table><thead><tr></tr></thead><tbody><tr><td>X</td><td><div class=\"dni-plaintext\"><pre>0</pre></div></td></tr><tr><td>Y</td><td><div class=\"dni-plaintext\"><pre>0</pre></div></td></tr></tbody></table></div></details><style>\r\n",
       ".dni-code-hint {\r\n",
       "    font-style: italic;\r\n",
       "    overflow: hidden;\r\n",
       "    white-space: nowrap;\r\n",
       "}\r\n",
       ".dni-treeview {\r\n",
       "    white-space: nowrap;\r\n",
       "}\r\n",
       ".dni-treeview td {\r\n",
       "    vertical-align: top;\r\n",
       "    text-align: start;\r\n",
       "}\r\n",
       "details.dni-treeview {\r\n",
       "    padding-left: 1em;\r\n",
       "}\r\n",
       "table td {\r\n",
       "    text-align: start;\r\n",
       "}\r\n",
       "table tr { \r\n",
       "    vertical-align: top; \r\n",
       "    margin: 0em 0px;\r\n",
       "}\r\n",
       "table tr td pre \r\n",
       "{ \r\n",
       "    vertical-align: top !important; \r\n",
       "    margin: 0em 0px !important;\r\n",
       "} \r\n",
       "table th {\r\n",
       "    text-align: start;\r\n",
       "}\r\n",
       "</style>"
      ]
     },
     "metadata": {},
     "output_type": "display_data"
    }
   ],
   "source": [
    "Point p;\n",
    "\n",
    "p"
   ]
  },
  {
   "cell_type": "code",
   "execution_count": 11,
   "metadata": {
    "dotnet_interactive": {
     "language": "csharp"
    },
    "polyglot_notebook": {
     "kernelName": "csharp"
    }
   },
   "outputs": [
    {
     "data": {
      "text/html": [
       "<details open=\"open\" class=\"dni-treeview\"><summary><span class=\"dni-code-hint\"><code>Submission#10+Point</code></span></summary><div><table><thead><tr></tr></thead><tbody><tr><td>X</td><td><div class=\"dni-plaintext\"><pre>1</pre></div></td></tr><tr><td>Y</td><td><div class=\"dni-plaintext\"><pre>1</pre></div></td></tr></tbody></table></div></details><style>\r\n",
       ".dni-code-hint {\r\n",
       "    font-style: italic;\r\n",
       "    overflow: hidden;\r\n",
       "    white-space: nowrap;\r\n",
       "}\r\n",
       ".dni-treeview {\r\n",
       "    white-space: nowrap;\r\n",
       "}\r\n",
       ".dni-treeview td {\r\n",
       "    vertical-align: top;\r\n",
       "    text-align: start;\r\n",
       "}\r\n",
       "details.dni-treeview {\r\n",
       "    padding-left: 1em;\r\n",
       "}\r\n",
       "table td {\r\n",
       "    text-align: start;\r\n",
       "}\r\n",
       "table tr { \r\n",
       "    vertical-align: top; \r\n",
       "    margin: 0em 0px;\r\n",
       "}\r\n",
       "table tr td pre \r\n",
       "{ \r\n",
       "    vertical-align: top !important; \r\n",
       "    margin: 0em 0px !important;\r\n",
       "} \r\n",
       "table th {\r\n",
       "    text-align: start;\r\n",
       "}\r\n",
       "</style>"
      ]
     },
     "metadata": {},
     "output_type": "display_data"
    }
   ],
   "source": [
    "Point p = new();\n",
    "p"
   ]
  },
  {
   "attachments": {},
   "cell_type": "markdown",
   "metadata": {},
   "source": [
    "### Records vs Structs vs Class\n",
    "\n",
    "Для компактных, дата-ориентированных объектов используем Records"
   ]
  },
  {
   "cell_type": "code",
   "execution_count": 35,
   "metadata": {
    "dotnet_interactive": {
     "language": "csharp"
    },
    "polyglot_notebook": {
     "kernelName": "csharp"
    }
   },
   "outputs": [],
   "source": [
    "//Positional syntax\n",
    "public record Point(float X, float Y);"
   ]
  },
  {
   "cell_type": "code",
   "execution_count": null,
   "metadata": {
    "dotnet_interactive": {
     "language": "csharp"
    },
    "polyglot_notebook": {
     "kernelName": "csharp"
    }
   },
   "outputs": [],
   "source": [
    "// Запись выше аналогична определению класса:\n",
    "public class Point\n",
    "{\n",
    "    public float X { get; init; }\n",
    "    public float Y { get; init; }\n",
    "    public Point(float x, float y)\n",
    "    {\n",
    "    X = x; Y = y;\n",
    "    }\n",
    "}"
   ]
  },
  {
   "cell_type": "code",
   "execution_count": 16,
   "metadata": {
    "dotnet_interactive": {
     "language": "csharp"
    },
    "polyglot_notebook": {
     "kernelName": "csharp"
    }
   },
   "outputs": [],
   "source": [
    "//immutable\n",
    "record CarRecord(string Make, string Model, string Color);"
   ]
  },
  {
   "cell_type": "code",
   "execution_count": 14,
   "metadata": {
    "dotnet_interactive": {
     "language": "csharp"
    },
    "polyglot_notebook": {
     "kernelName": "csharp"
    }
   },
   "outputs": [],
   "source": [
    "// mutable\n",
    "record CarRecord\n",
    "{\n",
    "    public string Make { get; set; }\n",
    "    public string Model { get; set; }\n",
    "    public string Color { get; set; }\n",
    "    public CarRecord() {}\n",
    "    public CarRecord(string make, string model, string color)\n",
    "    {\n",
    "        Make = make;\n",
    "        Model = model;\n",
    "        Color = color;\n",
    "    }\n",
    "}"
   ]
  },
  {
   "cell_type": "code",
   "execution_count": 23,
   "metadata": {
    "dotnet_interactive": {
     "language": "csharp"
    },
    "polyglot_notebook": {
     "kernelName": "csharp"
    }
   },
   "outputs": [],
   "source": [
    "int m= 2;\n",
    "\n"
   ]
  },
  {
   "attachments": {},
   "cell_type": "markdown",
   "metadata": {},
   "source": [
    "### Deconstructing"
   ]
  },
  {
   "cell_type": "code",
   "execution_count": 17,
   "metadata": {
    "dotnet_interactive": {
     "language": "csharp"
    },
    "polyglot_notebook": {
     "kernelName": "csharp"
    }
   },
   "outputs": [
    {
     "name": "stdout",
     "output_type": "stream",
     "text": [
      "Make: Honda Model: Pilot Color: Blue\n",
      "Make: Honda Model: Pilot Color: Blue\n"
     ]
    }
   ],
   "source": [
    "CarRecord myCarRecord = new CarRecord(\"Honda\", \"Pilot\", \"Blue\");\n",
    "myCarRecord.Deconstruct(out string make, out string model, out string color);\n",
    "Console.WriteLine($\"Make: {make} Model: {model} Color: {color}\");\n",
    "\n",
    "var (make2, model2, color2) = myCarRecord;\n",
    "Console.WriteLine($\"Make: {make2} Model: {model2} Color: {color2}\");"
   ]
  },
  {
   "cell_type": "code",
   "execution_count": 29,
   "metadata": {
    "dotnet_interactive": {
     "language": "csharp"
    },
    "polyglot_notebook": {
     "kernelName": "csharp"
    }
   },
   "outputs": [
    {
     "data": {
      "text/plain": [
       "Point { X = 3, Y = 4 }"
      ]
     },
     "metadata": {},
     "output_type": "display_data"
    }
   ],
   "source": [
    "Point p;\n",
    "p = new(3,4);\n",
    "p.ToString()"
   ]
  },
  {
   "cell_type": "code",
   "execution_count": 31,
   "metadata": {
    "dotnet_interactive": {
     "language": "csharp"
    },
    "polyglot_notebook": {
     "kernelName": "csharp"
    }
   },
   "outputs": [
    {
     "name": "stdout",
     "output_type": "stream",
     "text": [
      "True\r\n"
     ]
    }
   ],
   "source": [
    "//Value semantics\n",
    "Point a = new Point(2, 3);\n",
    "Point b = new Point(2, 3);\n",
    "Console.WriteLine(a == b);"
   ]
  },
  {
   "cell_type": "code",
   "execution_count": 34,
   "metadata": {
    "dotnet_interactive": {
     "language": "csharp"
    },
    "polyglot_notebook": {
     "kernelName": "csharp"
    }
   },
   "outputs": [],
   "source": [
    "//with Statements\n",
    "\n",
    "Point p1 = new Point(-2, 5);\n",
    "Point p2 = p1 with { X = 0 };"
   ]
  },
  {
   "attachments": {},
   "cell_type": "markdown",
   "metadata": {},
   "source": [
    "### Record Structs"
   ]
  },
  {
   "cell_type": "code",
   "execution_count": 38,
   "metadata": {
    "dotnet_interactive": {
     "language": "csharp"
    },
    "polyglot_notebook": {
     "kernelName": "csharp"
    }
   },
   "outputs": [],
   "source": [
    "public record struct Point(double X, double Y, double Z);"
   ]
  },
  {
   "cell_type": "code",
   "execution_count": 39,
   "metadata": {
    "dotnet_interactive": {
     "language": "csharp"
    },
    "polyglot_notebook": {
     "kernelName": "csharp"
    }
   },
   "outputs": [],
   "source": [
    "public readonly record struct ReadOnlyPoint(double X, double Y, double Z);"
   ]
  }
 ],
 "metadata": {
  "kernelspec": {
   "display_name": ".NET (C#)",
   "language": "C#",
   "name": ".net-csharp"
  },
  "language_info": {
   "name": "polyglot-notebook"
  },
  "polyglot_notebook": {
   "kernelInfo": {
    "defaultKernelName": "csharp",
    "items": [
     {
      "aliases": [],
      "languageName": "csharp",
      "name": "csharp"
     }
    ]
   }
  }
 },
 "nbformat": 4,
 "nbformat_minor": 2
}
