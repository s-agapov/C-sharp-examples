{
 "cells": [
  {
   "cell_type": "markdown",
   "metadata": {},
   "source": [
    "### Generalization (Наследование)"
   ]
  },
  {
   "cell_type": "markdown",
   "metadata": {},
   "source": [
    "::: mermaid\n",
    "classDiagram\n",
    "class Vehicle{\n",
    "    +go()\n",
    "    +startEngine()\n",
    "    +stopEngine()\n",
    "    +isEngineOn()\n",
    "}\n",
    "\n",
    "class Car {\n",
    "    +go()\n",
    "}\n",
    "\n",
    "class Truck {\n",
    "    +go()\n",
    "}\n",
    "\n",
    "Vehicle <|-- Car\n",
    "Vehicle <|-- Truck\n",
    ":::"
   ]
  },
  {
   "cell_type": "code",
   "execution_count": 2,
   "metadata": {
    "dotnet_interactive": {
     "language": "csharp"
    },
    "polyglot_notebook": {
     "kernelName": "csharp"
    }
   },
   "outputs": [],
   "source": [
    "public abstract class Vehicle\n",
    "{\n",
    "    private bool engineStarted;\n",
    "    // Возвращает звук издаваемый мотором машины\n",
    "    public abstract string go();\n",
    "\n",
    "    // Запускает двигатель\n",
    "    public void startEngine()\n",
    "    {\n",
    "        engineStarted = true;\n",
    "    }\n",
    "\n",
    "    //Останавливает двигатель\n",
    "    public void stopEngine()\n",
    "    {\n",
    "        engineStarted = false;\n",
    "    }\n",
    "\n",
    "    //Возращет состояние двигателя запущен/остановлен\n",
    "    public bool isEngineOn() {\n",
    "        return engineStarted;\n",
    "    }\n",
    "}"
   ]
  },
  {
   "cell_type": "code",
   "execution_count": 3,
   "metadata": {
    "dotnet_interactive": {
     "language": "csharp"
    },
    "polyglot_notebook": {
     "kernelName": "csharp"
    }
   },
   "outputs": [],
   "source": [
    "public class Car : Vehicle {\n",
    "\n",
    "    public override string go() {\n",
    "        if (isEngineOn()) {\n",
    "            return  \"НьеуНьеу\" ;\n",
    "        } else {\n",
    "            return \"...\";\n",
    "        }\n",
    "    }\n",
    "\n",
    "}\n",
    "public class Truck: Vehicle {\n",
    "\n",
    "    public override string go() {\n",
    "        if (isEngineOn()) {\n",
    "            return \"ДырДырДыр\";\n",
    "        } else {\n",
    "            return \"...\";\n",
    "        }\n",
    "\n",
    "    }\n",
    "}"
   ]
  },
  {
   "cell_type": "markdown",
   "metadata": {},
   "source": [
    "### Realization (Реализация)\n"
   ]
  },
  {
   "cell_type": "markdown",
   "metadata": {},
   "source": [
    "Некоторые транспортные средства могут перевозить грузы, а некоторые нет. Предположим существуют классы, которые не являются «обычными» транспортными средствами и также могут перевозить грузы. Вместо того, чтобы вводить отдельный подкласс для подобных классов, мы вводим интерфейс, ICargoTransport. Наш дизайн позволяет любому классу реализовать ICargoTransport, предоставляя реализацию метода loadCargo."
   ]
  },
  {
   "cell_type": "code",
   "execution_count": 10,
   "metadata": {
    "dotnet_interactive": {
     "language": "csharp"
    },
    "polyglot_notebook": {
     "kernelName": "csharp"
    }
   },
   "outputs": [],
   "source": [
    "public interface ICargoTransport {\n",
    "    public void load_cargo();\n",
    "}\n",
    "\n",
    "public class Truck: Vehicle, ICargoTransport  {\n",
    "\n",
    "    public override string go() {\n",
    "        if (isEngineOn()) {\n",
    "            return \"ДырДырДыр\";\n",
    "        } else {\n",
    "            return \"...\";\n",
    "        }\n",
    "\n",
    "    }\n",
    "\n",
    "    public void load_cargo(){\n",
    "        \n",
    "    }\n",
    "}"
   ]
  },
  {
   "cell_type": "markdown",
   "metadata": {},
   "source": [
    "::: mermaid\n",
    "classDiagram\n",
    "class Vehicle{\n",
    "    +go()\n",
    "    +startEngine()\n",
    "    +stopEngine()\n",
    "    +isEngineOn():bool\n",
    "}\n",
    "\n",
    "class Car {\n",
    "    +go()\n",
    "}\n",
    "\n",
    "class Truck {\n",
    "    +go()\n",
    "}\n",
    "\n",
    "\n",
    "class ICargoTransport {\n",
    "    <<interface>>\n",
    "    loadCargo()\n",
    "}\n",
    "\n",
    "Vehicle <|-- Car\n",
    "Vehicle <|-- Truck\n",
    "\n",
    "Truck ..|> ICargoTransport\n",
    ":::"
   ]
  },
  {
   "cell_type": "markdown",
   "metadata": {},
   "source": [
    "### Assosiation"
   ]
  },
  {
   "cell_type": "markdown",
   "metadata": {},
   "source": [
    "Ассоциация – это долгосрочная связь между объектами, в ассоциации объект сохраняет ссылку на другой объект и может вызывать методы объекта по мере необходимости.\n",
    "В нашем случае это человек с его собственный автомобиль. Пока он  помнит, где она припаркована, машина позволит человеку доехать до места назначения. В UML сплошная линия между двумя\n",
    "классами представляют собой ассоциацию.\n",
    "\n",
    "В некоторых случаях объект может создавать экземпляр другого объекта и сохранять ссылку на него для\n",
    "использование в будущем. Объект также может получать объект в качестве параметра конфигурации.\n",
    "метод и сохраните ссылку на объект."
   ]
  },
  {
   "cell_type": "code",
   "execution_count": 15,
   "metadata": {
    "dotnet_interactive": {
     "language": "csharp"
    },
    "polyglot_notebook": {
     "kernelName": "csharp"
    }
   },
   "outputs": [],
   "source": [
    "public class Person {\n",
    "    public List<Vehicle> vehicles = new();\n",
    "\n",
    "    public void addVehicle(Vehicle v) {\n",
    "        vehicles.Add(v);\n",
    "    }\n",
    "\n",
    "}"
   ]
  },
  {
   "cell_type": "markdown",
   "metadata": {},
   "source": [
    "::: mermaid\n",
    "classDiagram\n",
    "\n",
    "class Person {\n",
    "    +addVehicle(v:Vehicle)\n",
    "}\n",
    "\n",
    "class Vehicle{\n",
    "    +go()\n",
    "    +startEngine()\n",
    "    +stopEngine()\n",
    "    +isEngineOn():bool\n",
    "}\n",
    "\n",
    "class Car {\n",
    "    +go()\n",
    "}\n",
    "\n",
    "class Truck {\n",
    "    +go()\n",
    "}\n",
    "\n",
    "\n",
    "class ICargoTransport {\n",
    "    <<interface>>\n",
    "    loadCargo()\n",
    "}\n",
    "\n",
    "Vehicle \"0..*\" <-- \"1..*\" Person\n",
    "\n",
    "Vehicle <|-- Car\n",
    "Vehicle <|-- Truck\n",
    "\n",
    "Truck ..|> ICargoTransport\n",
    "\n",
    ":::"
   ]
  },
  {
   "cell_type": "markdown",
   "metadata": {},
   "source": [
    "### Aggregation"
   ]
  },
  {
   "cell_type": "markdown",
   "metadata": {},
   "source": [
    "Агрегация указывает на долгосрочные отношения с дополнительным ограничением, когда некоторые объекты являются частью другого объекта. Именно эта цельно-частичная природа отношений отличает агрегацию от ассоциации."
   ]
  },
  {
   "cell_type": "code",
   "execution_count": 6,
   "metadata": {
    "dotnet_interactive": {
     "language": "csharp"
    },
    "polyglot_notebook": {
     "kernelName": "csharp"
    }
   },
   "outputs": [],
   "source": [
    "\n",
    "\n",
    "public class Engine {\n",
    "    private bool on;\n",
    "\n",
    "    public void start() {\n",
    "        on = true;\n",
    "    }\n",
    "\n",
    "    public void stop() {\n",
    "        on = false;\n",
    "    }\n",
    "\n",
    "    public bool isOn() {\n",
    "        return on;\n",
    "    }\n",
    "}\n",
    "\n",
    "public abstract class Vehicle\n",
    "{\n",
    "    private Engine? engine;\n",
    "\n",
    "    //установить двигатель\n",
    "    public void setEngine(Engine e){\n",
    "        engine = e;\n",
    "    }\n",
    "\n",
    "    // Возвращает звук издаваемый мотором машины\n",
    "    public abstract string go();\n",
    "\n",
    "    // Запускает двигатель\n",
    "    public void startEngine()\n",
    "    {   \n",
    "        if (engine != null) {\n",
    "            engine.start();\n",
    "        }\n",
    "\n",
    "    }\n",
    "\n",
    "    //Останавливает двигатель\n",
    "    public void stopEngine()\n",
    "    {\n",
    "        if (engine != null) {\n",
    "            engine.stop();\n",
    "        }\n",
    "    }\n",
    "\n",
    "    //Возращет состояние двигателя запущен/остановлен\n",
    "    public bool isEngineOn() {\n",
    "        if (engine != null)\n",
    "        {\n",
    "            return engine.isOn();\n",
    "        } else {\n",
    "            return false;\n",
    "        }\n",
    "\n",
    "    }\n",
    "}"
   ]
  },
  {
   "cell_type": "markdown",
   "metadata": {},
   "source": [
    "::: mermaid\n",
    "classDiagram\n",
    "\n",
    "class Person {\n",
    "    +addVehicle(v:Vehicle)\n",
    "}\n",
    "\n",
    "class Vehicle{\n",
    "    +go()\n",
    "    +startEngine()\n",
    "    +stopEngine()\n",
    "    +isEngineOn():bool\n",
    "}\n",
    "\n",
    "class Car {\n",
    "    +go()\n",
    "}\n",
    "\n",
    "class Truck {\n",
    "    +go()\n",
    "}\n",
    "\n",
    "class Engine{\n",
    "\n",
    "    +start()\n",
    "    +stop()\n",
    "    +isOn():bool\n",
    "}\n",
    "\n",
    "\n",
    "class ICargoTransport {\n",
    "    <<interface>>\n",
    "    loadCargo()\n",
    "}\n",
    "\n",
    "Vehicle \"0..*\" <-- \"1..*\" Person\n",
    "\n",
    "Vehicle <|-- Car\n",
    "Vehicle <|-- Truck\n",
    "\n",
    "Vehicle \"1\" o-- \"0..1\" Engine\n",
    "Truck ..|> ICargoTransport\n",
    "\n",
    ":::"
   ]
  },
  {
   "cell_type": "markdown",
   "metadata": {},
   "source": [
    "### Composition"
   ]
  },
  {
   "cell_type": "markdown",
   "metadata": {},
   "source": [
    "Композиция представляет собой еще более сильную связь, когда один объект, по сути, владеет другие предметы или предметы. Подчиненные объекты создаются при создании целого,\n",
    "и уничтожаются, когда разрушается целое. Таким образом, объект не может играть роль придаточная часть в двух композиционных отношениях."
   ]
  },
  {
   "cell_type": "code",
   "execution_count": 3,
   "metadata": {
    "dotnet_interactive": {
     "language": "csharp"
    },
    "polyglot_notebook": {
     "kernelName": "csharp"
    }
   },
   "outputs": [],
   "source": [
    "public class Cog {\n",
    "\n",
    "}\n",
    "\n",
    "public class Engine {\n",
    "    private bool on;\n",
    "    private List<Cog> cogs = new();\n",
    "\n",
    "    public Engine() {\n",
    "        cogs.Add(new Cog());\n",
    "        cogs.Add(new Cog());\n",
    "    }\n",
    "\n",
    "    public void start() {\n",
    "        on = true;\n",
    "    }\n",
    "\n",
    "    public void stop() {\n",
    "        on = false;\n",
    "    }\n",
    "\n",
    "    public bool isOn() {\n",
    "        return on;\n",
    "    }\n",
    "}"
   ]
  },
  {
   "cell_type": "markdown",
   "metadata": {},
   "source": [
    "::: mermaid\n",
    "classDiagram\n",
    "\n",
    "class Person {\n",
    "    +addVehicle(v:Vehicle)\n",
    "}\n",
    "\n",
    "class Vehicle{\n",
    "    +go()\n",
    "    +startEngine()\n",
    "    +stopEngine()\n",
    "    +isEngineOn():bool\n",
    "}\n",
    "\n",
    "class Car {\n",
    "    +go()\n",
    "}\n",
    "\n",
    "class Truck {\n",
    "    +go()\n",
    "}\n",
    "\n",
    "class Engine{\n",
    "\n",
    "    +start()\n",
    "    +stop()\n",
    "    +isOn():bool\n",
    "}\n",
    "\n",
    "class Cog {\n",
    "    +Cog()\n",
    "}\n",
    "\n",
    "\n",
    "class ICargoTransport {\n",
    "    <<interface>>\n",
    "    loadCargo()\n",
    "}\n",
    "\n",
    "Vehicle \"0..*\" <-- \"1..*\" Person\n",
    "\n",
    "Vehicle <|-- Car\n",
    "Vehicle <|-- Truck\n",
    "\n",
    "Vehicle \"1\" o-- \"0..1\" Engine\n",
    "Truck ..|> ICargoTransport\n",
    "Engine *-- Cog \n",
    "\n",
    ":::"
   ]
  },
  {
   "cell_type": "markdown",
   "metadata": {},
   "source": [
    "### Dependency"
   ]
  },
  {
   "cell_type": "markdown",
   "metadata": {},
   "source": [
    "Объекты часто должны использовать другой объект. Объект может получить ссылку в качестве параметра на метод, или он может создать объект, использовать его и потерять до окончания срока действия текущего метода. Ключевая идея состоит в том, что зависимый объект получает, использует и забывает объект в одном методе."
   ]
  },
  {
   "cell_type": "code",
   "execution_count": 10,
   "metadata": {
    "dotnet_interactive": {
     "language": "csharp"
    },
    "polyglot_notebook": {
     "kernelName": "csharp"
    }
   },
   "outputs": [],
   "source": [
    "public class GasPump {\n",
    "    public void usePump() {\n",
    "\n",
    "    }\n",
    "}\n",
    "\n",
    "public class Person {\n",
    "    public List<Vehicle> vehicles = new();\n",
    "\n",
    "    public void addVehicle(Vehicle v) {\n",
    "        vehicles.Add(v);\n",
    "    }\n",
    "    public void purchaseGas(GasPump pump) {\n",
    "        pump.usePump();\n",
    "    }\n",
    "}"
   ]
  },
  {
   "cell_type": "markdown",
   "metadata": {},
   "source": [
    "::: mermaid\n",
    "classDiagram\n",
    "\n",
    "class Person {\n",
    "    +addVehicle(v:Vehicle)\n",
    "    +purchaseGas(pump:GasPump)\n",
    "}\n",
    "\n",
    "class Vehicle{\n",
    "    +go()\n",
    "    +startEngine()\n",
    "    +stopEngine()\n",
    "    +isEngineOn():bool\n",
    "}\n",
    "\n",
    "class Car {\n",
    "    +go()\n",
    "}\n",
    "\n",
    "class Truck {\n",
    "    +go()\n",
    "}\n",
    "\n",
    "class Engine{\n",
    "\n",
    "    +start()\n",
    "    +stop()\n",
    "    +isOn():bool\n",
    "}\n",
    "\n",
    "class Cog {\n",
    "    +Cog()\n",
    "}\n",
    "\n",
    "class GasPump {\n",
    "    +usePump()\n",
    "}\n",
    "\n",
    "class ICargoTransport {\n",
    "    <<interface>>\n",
    "    loadCargo()\n",
    "}\n",
    "\n",
    "Vehicle \"0..*\" <-- \"1..*\" Person\n",
    "\n",
    "Vehicle <|-- Car\n",
    "Vehicle <|-- Truck\n",
    "\n",
    "Vehicle \"1\" o-- \"0..1\" Engine\n",
    "Truck ..|> ICargoTransport\n",
    "Engine *-- Cog \n",
    "Person <.. GasPump\n",
    "\n",
    ":::"
   ]
  }
 ],
 "metadata": {
  "kernelspec": {
   "display_name": ".NET (C#)",
   "language": "C#",
   "name": ".net-csharp"
  },
  "language_info": {
   "name": "polyglot-notebook"
  },
  "polyglot_notebook": {
   "kernelInfo": {
    "defaultKernelName": "csharp",
    "items": [
     {
      "aliases": [],
      "languageName": "csharp",
      "name": "csharp"
     }
    ]
   }
  }
 },
 "nbformat": 4,
 "nbformat_minor": 2
}
