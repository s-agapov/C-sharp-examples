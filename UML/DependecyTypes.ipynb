{
 "cells": [
  {
   "cell_type": "code",
   "execution_count": 8,
   "metadata": {
    "dotnet_interactive": {
     "language": "csharp"
    },
    "polyglot_notebook": {
     "kernelName": "csharp"
    }
   },
   "outputs": [],
   "source": [
    "public abstract class Vehicle\n",
    "{\n",
    "    private bool engineStarted;\n",
    "    // Возвращает звук издаваемый мотором машины\n",
    "    public abstract string go();\n",
    "\n",
    "    // Запускает двигатель\n",
    "    public void startEngine()\n",
    "    {\n",
    "        engineStarted = true;\n",
    "    }\n",
    "\n",
    "    //Останавливает двигатель\n",
    "    public void stopEngine()\n",
    "    {\n",
    "        engineStarted = false;\n",
    "    }\n",
    "\n",
    "    //Возращет состояние двигателя запущен/остановлен\n",
    "    public bool isEngineOn() {\n",
    "        return engineStarted;\n",
    "    }\n",
    "}"
   ]
  },
  {
   "cell_type": "code",
   "execution_count": 16,
   "metadata": {
    "dotnet_interactive": {
     "language": "csharp"
    },
    "polyglot_notebook": {
     "kernelName": "csharp"
    }
   },
   "outputs": [],
   "source": [
    "public class Car : Vehicle {\n",
    "\n",
    "    public override string go() {\n",
    "        if (isEngineOn()) {\n",
    "            return  \"НьеуНьеу\" ;\n",
    "        } else {\n",
    "            return \"...\";\n",
    "        }\n",
    "    }\n",
    "}\n",
    "\n",
    "public class Truck: Vehicle {\n",
    "\n",
    "    public override string go() {\n",
    "        if (isEngineOn()) {\n",
    "            return \"ДырДырДыр\";\n",
    "        } else {\n",
    "            return \"...\";\n",
    "        }\n",
    "\n",
    "    }\n",
    "}"
   ]
  },
  {
   "cell_type": "markdown",
   "metadata": {},
   "source": [
    "::: mermaid\n",
    "classDiagram\n",
    "class Vehicle{\n",
    "    +go()\n",
    "    +startEngine()\n",
    "    +stopEngine()\n",
    "    +isEngineOn()\n",
    "}\n",
    "\n",
    "class Car {\n",
    "    +go()\n",
    "}\n",
    "\n",
    "class Truck {\n",
    "    +go()\n",
    "}\n",
    "\n",
    "Vehicle <|-- Car\n",
    "Vehicle <|-- Truck\n",
    ":::"
   ]
  }
 ],
 "metadata": {
  "kernelspec": {
   "display_name": ".NET (C#)",
   "language": "C#",
   "name": ".net-csharp"
  },
  "language_info": {
   "name": "polyglot-notebook"
  },
  "polyglot_notebook": {
   "kernelInfo": {
    "defaultKernelName": "csharp",
    "items": [
     {
      "aliases": [],
      "languageName": "csharp",
      "name": "csharp"
     }
    ]
   }
  }
 },
 "nbformat": 4,
 "nbformat_minor": 2
}
