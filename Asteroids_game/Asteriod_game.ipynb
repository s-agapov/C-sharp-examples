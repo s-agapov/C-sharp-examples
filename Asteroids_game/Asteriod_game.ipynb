{
 "cells": [
  {
   "attachments": {},
   "cell_type": "markdown",
   "metadata": {},
   "source": [
    "### Первая итерация"
   ]
  },
  {
   "cell_type": "code",
   "execution_count": 2,
   "metadata": {
    "dotnet_interactive": {
     "language": "csharp"
    },
    "polyglot_notebook": {
     "kernelName": "csharp"
    }
   },
   "outputs": [],
   "source": [
    "public class Asteroid\n",
    "{\n",
    "    public float PositionX { get; private set; }\n",
    "    public float PositionY { get; private set; }\n",
    "    public float VelocityX { get; private set; }\n",
    "    public float VelocityY { get; private set; }\n",
    "\n",
    "    public Asteroid(float positionX, float positionY, float velocityX, float velocityY)\n",
    "    {\n",
    "        PositionX = positionX;\n",
    "        PositionY = positionY;\n",
    "        VelocityX = velocityX;\n",
    "        VelocityY = velocityY;\n",
    "    }\n",
    "\n",
    "    public void Update()\n",
    "    {\n",
    "        PositionX += VelocityX;\n",
    "        PositionY += VelocityY;\n",
    "    }\n",
    "}"
   ]
  },
  {
   "cell_type": "code",
   "execution_count": 4,
   "metadata": {
    "dotnet_interactive": {
     "language": "csharp"
    },
    "polyglot_notebook": {
     "kernelName": "csharp"
    }
   },
   "outputs": [],
   "source": [
    "public class AsteroidsGame\n",
    "{\n",
    "    private Asteroid[] _asteroids;\n",
    "    public AsteroidsGame()\n",
    "    {\n",
    "        _asteroids = new Asteroid[5];\n",
    "        _asteroids[0] = new Asteroid(100, 200, -4, -2);\n",
    "        _asteroids[1] = new Asteroid(-50, 100, -1, +3);\n",
    "        _asteroids[2] = new Asteroid(0, 0, 2, 1);\n",
    "        _asteroids[3] = new Asteroid(400, -100, -3, -1);\n",
    "        _asteroids[4] = new Asteroid(200, -300, 0, 3);\n",
    "    }\n",
    "\n",
    "public void Run() \n",
    "{\n",
    "    while (true)\n",
    "        {\n",
    "            foreach (Asteroid asteroid in _asteroids)\n",
    "                asteroid.Update();\n",
    "        }\n",
    "    }\n",
    "}"
   ]
  },
  {
   "cell_type": "code",
   "execution_count": null,
   "metadata": {
    "dotnet_interactive": {
     "language": "csharp"
    },
    "polyglot_notebook": {
     "kernelName": "csharp"
    }
   },
   "outputs": [],
   "source": [
    "AsteroidsGame game = new AsteroidsGame();\n",
    "game.Run();"
   ]
  },
  {
   "attachments": {},
   "cell_type": "markdown",
   "metadata": {},
   "source": [
    "### Вторая Итерация"
   ]
  },
  {
   "cell_type": "code",
   "execution_count": 5,
   "metadata": {
    "dotnet_interactive": {
     "language": "csharp"
    },
    "polyglot_notebook": {
     "kernelName": "csharp"
    }
   },
   "outputs": [
    {
     "data": {
      "text/html": [
       "<details open=\"open\" class=\"dni-treeview\"><summary><span class=\"dni-code-hint\"><code>Submission#6+Coordinate</code></span></summary><div><table><thead><tr></tr></thead><tbody><tr><td>PositionX</td><td><div class=\"dni-plaintext\"><pre>10</pre></div></td></tr><tr><td>PositionY</td><td><div class=\"dni-plaintext\"><pre>20</pre></div></td></tr></tbody></table></div></details><style>\r\n",
       ".dni-code-hint {\r\n",
       "    font-style: italic;\r\n",
       "    overflow: hidden;\r\n",
       "    white-space: nowrap;\r\n",
       "}\r\n",
       ".dni-treeview {\r\n",
       "    white-space: nowrap;\r\n",
       "}\r\n",
       ".dni-treeview td {\r\n",
       "    vertical-align: top;\r\n",
       "    text-align: start;\r\n",
       "}\r\n",
       "details.dni-treeview {\r\n",
       "    padding-left: 1em;\r\n",
       "}\r\n",
       "table td {\r\n",
       "    text-align: start;\r\n",
       "}\r\n",
       "table tr { \r\n",
       "    vertical-align: top; \r\n",
       "    margin: 0em 0px;\r\n",
       "}\r\n",
       "table tr td pre \r\n",
       "{ \r\n",
       "    vertical-align: top !important; \r\n",
       "    margin: 0em 0px !important;\r\n",
       "} \r\n",
       "table th {\r\n",
       "    text-align: start;\r\n",
       "}\r\n",
       "</style>"
      ]
     },
     "metadata": {},
     "output_type": "display_data"
    }
   ],
   "source": [
    "public class Coordinate {\n",
    "    public float PositionX { get; set; }\n",
    "    public float PositionY { get; set; }\n",
    "\n",
    "    public Coordinate(float x, float y)\n",
    "    {\n",
    "        PositionX = x;\n",
    "        PositionY = y;\n",
    "    }\n",
    "}\n",
    "\n",
    "Coordinate coords = new (10, 20);\n",
    "\n",
    "coords"
   ]
  },
  {
   "cell_type": "code",
   "execution_count": 8,
   "metadata": {
    "dotnet_interactive": {
     "language": "csharp"
    },
    "polyglot_notebook": {
     "kernelName": "csharp"
    }
   },
   "outputs": [],
   "source": []
  },
  {
   "cell_type": "code",
   "execution_count": 6,
   "metadata": {
    "dotnet_interactive": {
     "language": "csharp"
    },
    "polyglot_notebook": {
     "kernelName": "csharp"
    }
   },
   "outputs": [],
   "source": [
    "public class Asteroid\n",
    "{\n",
    "    public Coordinate Position { get; private set; }\n",
    "    public float VelocityX { get; private set; }\n",
    "    public float VelocityY { get; private set; }\n",
    "\n",
    "    public Asteroid(float positionX, float positionY, float velocityX, float velocityY)\n",
    "    {\n",
    "        Position = new(positionX, positionY);\n",
    "        VelocityX = velocityX;\n",
    "        VelocityY = velocityY;\n",
    "    }\n",
    "\n",
    "    public void Update()\n",
    "    {\n",
    "        Position.PositionX += VelocityX;\n",
    "        Position.PositionY += VelocityY;\n",
    "    }\n",
    "}"
   ]
  },
  {
   "attachments": {},
   "cell_type": "markdown",
   "metadata": {},
   "source": [
    "### Третья итерация"
   ]
  },
  {
   "cell_type": "code",
   "execution_count": 12,
   "metadata": {
    "dotnet_interactive": {
     "language": "csharp"
    },
    "polyglot_notebook": {
     "kernelName": "csharp"
    }
   },
   "outputs": [
    {
     "data": {
      "text/html": [
       "<details open=\"open\" class=\"dni-treeview\"><summary><span class=\"dni-code-hint\"><code>Submission#13+Velocity</code></span></summary><div><table><thead><tr></tr></thead><tbody><tr><td>VelocityX</td><td><div class=\"dni-plaintext\"><pre>10</pre></div></td></tr><tr><td>VelocityY</td><td><div class=\"dni-plaintext\"><pre>20</pre></div></td></tr></tbody></table></div></details><style>\r\n",
       ".dni-code-hint {\r\n",
       "    font-style: italic;\r\n",
       "    overflow: hidden;\r\n",
       "    white-space: nowrap;\r\n",
       "}\r\n",
       ".dni-treeview {\r\n",
       "    white-space: nowrap;\r\n",
       "}\r\n",
       ".dni-treeview td {\r\n",
       "    vertical-align: top;\r\n",
       "    text-align: start;\r\n",
       "}\r\n",
       "details.dni-treeview {\r\n",
       "    padding-left: 1em;\r\n",
       "}\r\n",
       "table td {\r\n",
       "    text-align: start;\r\n",
       "}\r\n",
       "table tr { \r\n",
       "    vertical-align: top; \r\n",
       "    margin: 0em 0px;\r\n",
       "}\r\n",
       "table tr td pre \r\n",
       "{ \r\n",
       "    vertical-align: top !important; \r\n",
       "    margin: 0em 0px !important;\r\n",
       "} \r\n",
       "table th {\r\n",
       "    text-align: start;\r\n",
       "}\r\n",
       "</style>"
      ]
     },
     "metadata": {},
     "output_type": "display_data"
    }
   ],
   "source": [
    "public class Velocity{\n",
    "    public float VelocityX { get; set;}\n",
    "    public float VelocityY { get; set;} \n",
    "\n",
    "    public Velocity (float x, float y){\n",
    "        VelocityX = x;\n",
    "        VelocityY = y;\n",
    "    }\n",
    "    \n",
    "}\n",
    "\n",
    "Velocity vel = new(10, 20);\n",
    "vel"
   ]
  },
  {
   "cell_type": "code",
   "execution_count": 13,
   "metadata": {
    "dotnet_interactive": {
     "language": "csharp"
    },
    "polyglot_notebook": {
     "kernelName": "csharp"
    }
   },
   "outputs": [],
   "source": [
    "public class Asteroid\n",
    "{\n",
    "    public Coordinate Position { get; private set; }\n",
    "    public Velocity Vel { get; private set; }\n",
    "    \n",
    "\n",
    "    public Asteroid(float positionX, float positionY, float velocityX, float velocityY)\n",
    "    {\n",
    "        Position = new(positionX, positionY);\n",
    "        Vel = new(velocityX, velocityY);\n",
    "    }\n",
    "\n",
    "    public void Update()\n",
    "    {\n",
    "        Position.PositionX += Vel.VelocityX;\n",
    "        Position.PositionY += Vel.VelocityY;\n",
    "    }\n",
    "}"
   ]
  },
  {
   "cell_type": "code",
   "execution_count": 15,
   "metadata": {
    "dotnet_interactive": {
     "language": "csharp"
    },
    "polyglot_notebook": {
     "kernelName": "csharp"
    }
   },
   "outputs": [
    {
     "ename": "Error",
     "evalue": "(1,10): error CS0019: Оператор \"+\" невозможно применить к операнду типа \"Coordinate\" и \"Velocity\".",
     "output_type": "error",
     "traceback": [
      "(1,10): error CS0019: Оператор \"+\" невозможно применить к операнду типа \"Coordinate\" и \"Velocity\"."
     ]
    }
   ],
   "source": [
    "coords = coords + vel;"
   ]
  },
  {
   "attachments": {},
   "cell_type": "markdown",
   "metadata": {},
   "source": [
    "### Четвертая итерация"
   ]
  },
  {
   "cell_type": "code",
   "execution_count": 50,
   "metadata": {
    "dotnet_interactive": {
     "language": "csharp"
    },
    "polyglot_notebook": {
     "kernelName": "csharp"
    }
   },
   "outputs": [],
   "source": [
    "public class AsteroidsGame\n",
    "{\n",
    "    private Asteroid[] _asteroids;\n",
    "    public AsteroidsGame()\n",
    "    {\n",
    "        Random random = new Random();\n",
    "        _asteroids = new Asteroid[5];\n",
    "        _asteroids[0] = new Asteroid(random.Next(1000) - 500, random.Next(1000) - 500, -4, -2);\n",
    "        _asteroids[1] = new Asteroid(random.Next(1000) - 500, random.Next(1000) - 500, -1, +3);\n",
    "        _asteroids[2] = new Asteroid(random.Next(1000) - 500, random.Next(1000) - 500, 2, 1);\n",
    "        _asteroids[3] = new Asteroid(random.Next(1000) - 500, random.Next(1000) - 500, -3, -1);\n",
    "        _asteroids[4] = new Asteroid(random.Next(1000) - 500, random.Next(1000) - 500, 0, 3);\n",
    "    }\n",
    "\n",
    "public void Run() \n",
    "{\n",
    "    while (true)\n",
    "        {\n",
    "            foreach (Asteroid asteroid in _asteroids)\n",
    "                asteroid.Update();\n",
    "        }\n",
    "    }\n",
    "}"
   ]
  },
  {
   "cell_type": "code",
   "execution_count": 51,
   "metadata": {
    "dotnet_interactive": {
     "language": "csharp"
    },
    "polyglot_notebook": {
     "kernelName": "csharp"
    }
   },
   "outputs": [],
   "source": [
    "public class AsteroidsGame\n",
    "{\n",
    "    private Asteroid[] _asteroids;\n",
    "    public AsteroidsGame()\n",
    "    {\n",
    "        Random random = new Random();\n",
    "        _asteroids = new Asteroid[5];\n",
    "        for (int i=0; i <= 5;  i++) {\n",
    "            _asteroids[i] = new Asteroid(random.Next(1000) - 500, random.Next(1000) - 500, random.Next(10) - 5 , random.Next(10) - 5);\n",
    "        }\n",
    "    }\n",
    "\n",
    "public void Run() \n",
    "{\n",
    "    while (true)\n",
    "        {\n",
    "            foreach (Asteroid asteroid in _asteroids)\n",
    "                asteroid.Update();\n",
    "        }\n",
    "    }\n",
    "}"
   ]
  }
 ],
 "metadata": {
  "kernelspec": {
   "display_name": ".NET (C#)",
   "language": "C#",
   "name": ".net-csharp"
  },
  "language_info": {
   "name": "polyglot-notebook"
  },
  "polyglot_notebook": {
   "kernelInfo": {
    "defaultKernelName": "csharp",
    "items": [
     {
      "aliases": [],
      "languageName": "csharp",
      "name": "csharp"
     }
    ]
   }
  }
 },
 "nbformat": 4,
 "nbformat_minor": 2
}
